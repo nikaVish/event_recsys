{
 "metadata": {
  "language_info": {
   "codemirror_mode": {
    "name": "ipython",
    "version": 3
   },
   "file_extension": ".py",
   "mimetype": "text/x-python",
   "name": "python",
   "nbconvert_exporter": "python",
   "pygments_lexer": "ipython3",
   "version": "3.7.4-final"
  },
  "orig_nbformat": 2,
  "kernelspec": {
   "name": "python3",
   "display_name": "Python 3"
  }
 },
 "nbformat": 4,
 "nbformat_minor": 2,
 "cells": [
  {
   "cell_type": "code",
   "execution_count": 2,
   "metadata": {},
   "outputs": [],
   "source": [
    "import turicreate as tc\n",
    "import pandas as pd\n",
    "%load_ext sql\n",
    "from sqlalchemy import create_engine\n",
    "\n",
    "import nltk\n",
    "from nltk.corpus import stopwords\n",
    "\n",
    "from sklearn.feature_extraction.text import CountVectorizer\n",
    "\n",
    "from sklearn.decomposition import TruncatedSVD\n",
    "from sklearn.decomposition import LatentDirichletAllocation\n",
    "from collections import Counter\n",
    "import numpy as np"
   ]
  },
  {
   "cell_type": "code",
   "execution_count": 3,
   "metadata": {},
   "outputs": [],
   "source": [
    "books_vidacha = pd.read_csv('data/books_vydacha.csv')"
   ]
  },
  {
   "cell_type": "code",
   "execution_count": 4,
   "metadata": {},
   "outputs": [],
   "source": [
    "books_exemplyary = pd.read_csv('data/books_exemplyary.csv')"
   ]
  },
  {
   "cell_type": "code",
   "execution_count": 5,
   "metadata": {},
   "outputs": [],
   "source": [
    "books_catalog = pd.read_csv('data/books_catalog.csv')"
   ]
  },
  {
   "cell_type": "code",
   "execution_count": 26,
   "metadata": {},
   "outputs": [],
   "source": [
    "kdf_pupils = pd.read_csv('data/kdf_pupils.csv')"
   ]
  },
  {
   "cell_type": "code",
   "execution_count": 27,
   "metadata": {},
   "outputs": [],
   "source": [
    "kdf_mergerelation = pd.read_csv('data/kdf_mergerelation.csv')"
   ]
  },
  {
   "cell_type": "code",
   "execution_count": 3,
   "metadata": {},
   "outputs": [],
   "source": [
    "kdf_organization = pd.read_csv('data/kdf_organization.csv')"
   ]
  },
  {
   "cell_type": "code",
   "execution_count": 30,
   "metadata": {},
   "outputs": [],
   "source": [
    "kdf_services = pd.read_csv('data/kdf_services.csv')"
   ]
  },
  {
   "cell_type": "code",
   "execution_count": 7,
   "metadata": {},
   "outputs": [],
   "source": [
    "events = pd.read_csv('data/meropriyatia.csv', sep=';')"
   ]
  },
  {
   "cell_type": "code",
   "execution_count": 32,
   "metadata": {},
   "outputs": [],
   "source": [
    "metro_distance = pd.read_csv('data/metro_distance.csv')"
   ]
  },
  {
   "source": [
    "# Turicreate baseline книги"
   ],
   "cell_type": "markdown",
   "metadata": {}
  },
  {
   "cell_type": "code",
   "execution_count": 6,
   "metadata": {},
   "outputs": [],
   "source": [
    "books_vidacha['id_katalognoi'] = books_vidacha['inventarnyi_nomer'].map(books_exemplyary.set_index('inventarnyi_nomer')['id_katalognoi'])\n",
    "books_vidacha['doc_id'] = books_vidacha['id_katalognoi']"
   ]
  },
  {
   "source": [
    "books_total = books_vidacha.merge(books_catalog,on='doc_id')"
   ],
   "cell_type": "code",
   "metadata": {},
   "execution_count": 7,
   "outputs": []
  },
  {
   "cell_type": "code",
   "execution_count": 8,
   "metadata": {},
   "outputs": [],
   "source": [
    "books_total = books_total.dropna(subset=['id_chitatelya'])"
   ]
  },
  {
   "cell_type": "code",
   "execution_count": 9,
   "metadata": {},
   "outputs": [],
   "source": [
    "books_total = books_total.drop_duplicates(subset=['id_chitatelya','inventarnyi_nomer','id_katalognoi'])"
   ]
  },
  {
   "cell_type": "code",
   "execution_count": 10,
   "metadata": {},
   "outputs": [],
   "source": [
    "books_total['id_chitatelya'] = books_total['id_chitatelya'].astype(str)\n",
    "books_total['doc_id'] = books_total['doc_id'].astype(str)"
   ]
  },
  {
   "source": [
    "## Cleaning"
   ],
   "cell_type": "markdown",
   "metadata": {}
  },
  {
   "cell_type": "code",
   "execution_count": 11,
   "metadata": {},
   "outputs": [],
   "source": [
    "books_catalog_clean = books_catalog.dropna()"
   ]
  },
  {
   "cell_type": "code",
   "execution_count": 12,
   "metadata": {},
   "outputs": [],
   "source": [
    "books_catalog_clean['author'] = books_catalog_clean['author'].astype(str)\n",
    "books_catalog_clean['doc_id'] = books_catalog_clean['doc_id'].astype(str)\n",
    "books_catalog_clean['tags'] = books_catalog_clean['tags'].astype(str)"
   ]
  },
  {
   "cell_type": "code",
   "execution_count": 13,
   "metadata": {},
   "outputs": [],
   "source": [
    "tc_books = tc.SFrame(books_catalog_clean)"
   ]
  },
  {
   "cell_type": "code",
   "execution_count": 19,
   "metadata": {},
   "outputs": [],
   "source": [
    "columns = ['id_chitatelya',\n",
    "'doc_id']\n",
    "item_columns = ['doc_id',\n",
    " 'author']"
   ]
  },
  {
   "cell_type": "code",
   "execution_count": 20,
   "metadata": {},
   "outputs": [],
   "source": [
    "tc_books_total = tc.SFrame(books_total[['id_chitatelya','doc_id']])"
   ]
  },
  {
   "source": [],
   "cell_type": "markdown",
   "metadata": {}
  },
  {
   "cell_type": "code",
   "execution_count": 21,
   "metadata": {},
   "outputs": [
    {
     "output_type": "display_data",
     "data": {
      "text/plain": "Preparing data set.",
      "text/html": "<pre>Preparing data set.</pre>"
     },
     "metadata": {}
    },
    {
     "output_type": "display_data",
     "data": {
      "text/plain": "    Data has 2990 observations with 2138 users and 193552 items.",
      "text/html": "<pre>    Data has 2990 observations with 2138 users and 193552 items.</pre>"
     },
     "metadata": {}
    },
    {
     "output_type": "display_data",
     "data": {
      "text/plain": "    Data prepared in: 0.350831s",
      "text/html": "<pre>    Data prepared in: 0.350831s</pre>"
     },
     "metadata": {}
    },
    {
     "output_type": "display_data",
     "data": {
      "text/plain": "Training ranking_factorization_recommender for recommendations.",
      "text/html": "<pre>Training ranking_factorization_recommender for recommendations.</pre>"
     },
     "metadata": {}
    },
    {
     "output_type": "display_data",
     "data": {
      "text/plain": "+--------------------------------+--------------------------------------------------+----------+",
      "text/html": "<pre>+--------------------------------+--------------------------------------------------+----------+</pre>"
     },
     "metadata": {}
    },
    {
     "output_type": "display_data",
     "data": {
      "text/plain": "| Parameter                      | Description                                      | Value    |",
      "text/html": "<pre>| Parameter                      | Description                                      | Value    |</pre>"
     },
     "metadata": {}
    },
    {
     "output_type": "display_data",
     "data": {
      "text/plain": "+--------------------------------+--------------------------------------------------+----------+",
      "text/html": "<pre>+--------------------------------+--------------------------------------------------+----------+</pre>"
     },
     "metadata": {}
    },
    {
     "output_type": "display_data",
     "data": {
      "text/plain": "| num_factors                    | Factor Dimension                                 | 32       |",
      "text/html": "<pre>| num_factors                    | Factor Dimension                                 | 32       |</pre>"
     },
     "metadata": {}
    },
    {
     "output_type": "display_data",
     "data": {
      "text/plain": "| regularization                 | L2 Regularization on Factors                     | 1e-09    |",
      "text/html": "<pre>| regularization                 | L2 Regularization on Factors                     | 1e-09    |</pre>"
     },
     "metadata": {}
    },
    {
     "output_type": "display_data",
     "data": {
      "text/plain": "| solver                         | Solver used for training                         | adagrad  |",
      "text/html": "<pre>| solver                         | Solver used for training                         | adagrad  |</pre>"
     },
     "metadata": {}
    },
    {
     "output_type": "display_data",
     "data": {
      "text/plain": "| linear_regularization          | L2 Regularization on Linear Coefficients         | 1e-09    |",
      "text/html": "<pre>| linear_regularization          | L2 Regularization on Linear Coefficients         | 1e-09    |</pre>"
     },
     "metadata": {}
    },
    {
     "output_type": "display_data",
     "data": {
      "text/plain": "| binary_target                  | Assume Binary Targets                            | True     |",
      "text/html": "<pre>| binary_target                  | Assume Binary Targets                            | True     |</pre>"
     },
     "metadata": {}
    },
    {
     "output_type": "display_data",
     "data": {
      "text/plain": "| side_data_factorization        | Assign Factors for Side Data                     | True     |",
      "text/html": "<pre>| side_data_factorization        | Assign Factors for Side Data                     | True     |</pre>"
     },
     "metadata": {}
    },
    {
     "output_type": "display_data",
     "data": {
      "text/plain": "| max_iterations                 | Maximum Number of Iterations                     | 120      |",
      "text/html": "<pre>| max_iterations                 | Maximum Number of Iterations                     | 120      |</pre>"
     },
     "metadata": {}
    },
    {
     "output_type": "display_data",
     "data": {
      "text/plain": "+--------------------------------+--------------------------------------------------+----------+",
      "text/html": "<pre>+--------------------------------+--------------------------------------------------+----------+</pre>"
     },
     "metadata": {}
    },
    {
     "output_type": "display_data",
     "data": {
      "text/plain": "  Optimizing model using SGD; tuning step size.",
      "text/html": "<pre>  Optimizing model using SGD; tuning step size.</pre>"
     },
     "metadata": {}
    },
    {
     "output_type": "display_data",
     "data": {
      "text/plain": "  Using 2990 / 2990 points for tuning the step size.",
      "text/html": "<pre>  Using 2990 / 2990 points for tuning the step size.</pre>"
     },
     "metadata": {}
    },
    {
     "output_type": "display_data",
     "data": {
      "text/plain": "+---------+-------------------+------------------------------------------+",
      "text/html": "<pre>+---------+-------------------+------------------------------------------+</pre>"
     },
     "metadata": {}
    },
    {
     "output_type": "display_data",
     "data": {
      "text/plain": "| Attempt | Initial Step Size | Estimated Objective Value                |",
      "text/html": "<pre>| Attempt | Initial Step Size | Estimated Objective Value                |</pre>"
     },
     "metadata": {}
    },
    {
     "output_type": "display_data",
     "data": {
      "text/plain": "+---------+-------------------+------------------------------------------+",
      "text/html": "<pre>+---------+-------------------+------------------------------------------+</pre>"
     },
     "metadata": {}
    },
    {
     "output_type": "display_data",
     "data": {
      "text/plain": "| 0       | 16.6667           | 0.754604                                 |",
      "text/html": "<pre>| 0       | 16.6667           | 0.754604                                 |</pre>"
     },
     "metadata": {}
    },
    {
     "output_type": "display_data",
     "data": {
      "text/plain": "| 1       | 8.33333           | 1.00211                                  |",
      "text/html": "<pre>| 1       | 8.33333           | 1.00211                                  |</pre>"
     },
     "metadata": {}
    },
    {
     "output_type": "display_data",
     "data": {
      "text/plain": "| 2       | 4.16667           | 0.833209                                 |",
      "text/html": "<pre>| 2       | 4.16667           | 0.833209                                 |</pre>"
     },
     "metadata": {}
    },
    {
     "output_type": "display_data",
     "data": {
      "text/plain": "| 3       | 2.08333           | 0.852621                                 |",
      "text/html": "<pre>| 3       | 2.08333           | 0.852621                                 |</pre>"
     },
     "metadata": {}
    },
    {
     "output_type": "display_data",
     "data": {
      "text/plain": "+---------+-------------------+------------------------------------------+",
      "text/html": "<pre>+---------+-------------------+------------------------------------------+</pre>"
     },
     "metadata": {}
    },
    {
     "output_type": "display_data",
     "data": {
      "text/plain": "| Final   | 16.6667           | 0.754604                                 |",
      "text/html": "<pre>| Final   | 16.6667           | 0.754604                                 |</pre>"
     },
     "metadata": {}
    },
    {
     "output_type": "display_data",
     "data": {
      "text/plain": "+---------+-------------------+------------------------------------------+",
      "text/html": "<pre>+---------+-------------------+------------------------------------------+</pre>"
     },
     "metadata": {}
    },
    {
     "output_type": "display_data",
     "data": {
      "text/plain": "Starting Optimization.",
      "text/html": "<pre>Starting Optimization.</pre>"
     },
     "metadata": {}
    },
    {
     "output_type": "display_data",
     "data": {
      "text/plain": "+---------+--------------+-------------------+-----------------------------------+-------------+",
      "text/html": "<pre>+---------+--------------+-------------------+-----------------------------------+-------------+</pre>"
     },
     "metadata": {}
    },
    {
     "output_type": "display_data",
     "data": {
      "text/plain": "| Iter.   | Elapsed Time | Approx. Objective | Approx. Training Predictive Error | Step Size   |",
      "text/html": "<pre>| Iter.   | Elapsed Time | Approx. Objective | Approx. Training Predictive Error | Step Size   |</pre>"
     },
     "metadata": {}
    },
    {
     "output_type": "display_data",
     "data": {
      "text/plain": "+---------+--------------+-------------------+-----------------------------------+-------------+",
      "text/html": "<pre>+---------+--------------+-------------------+-----------------------------------+-------------+</pre>"
     },
     "metadata": {}
    },
    {
     "output_type": "display_data",
     "data": {
      "text/plain": "| Initial | 222us        | 1.38651           | 0.693151                          |             |",
      "text/html": "<pre>| Initial | 222us        | 1.38651           | 0.693151                          |             |</pre>"
     },
     "metadata": {}
    },
    {
     "output_type": "display_data",
     "data": {
      "text/plain": "+---------+--------------+-------------------+-----------------------------------+-------------+",
      "text/html": "<pre>+---------+--------------+-------------------+-----------------------------------+-------------+</pre>"
     },
     "metadata": {}
    },
    {
     "output_type": "display_data",
     "data": {
      "text/plain": "| 1       | 36.178ms     | DIVERGED          | DIVERGED                          | 16.6667     |",
      "text/html": "<pre>| 1       | 36.178ms     | DIVERGED          | DIVERGED                          | 16.6667     |</pre>"
     },
     "metadata": {}
    },
    {
     "output_type": "display_data",
     "data": {
      "text/plain": "| RESET   | 212.965ms    | 1.38652           | 0.693151                          |             |",
      "text/html": "<pre>| RESET   | 212.965ms    | 1.38652           | 0.693151                          |             |</pre>"
     },
     "metadata": {}
    },
    {
     "output_type": "display_data",
     "data": {
      "text/plain": "| 1       | 235.048ms    | 2.66464           | 1.0505                            | 8.33333     |",
      "text/html": "<pre>| 1       | 235.048ms    | 2.66464           | 1.0505                            | 8.33333     |</pre>"
     },
     "metadata": {}
    },
    {
     "output_type": "display_data",
     "data": {
      "text/plain": "| 2       | 257.674ms    | 2.65676           | 0.835462                          | 8.33333     |",
      "text/html": "<pre>| 2       | 257.674ms    | 2.65676           | 0.835462                          | 8.33333     |</pre>"
     },
     "metadata": {}
    },
    {
     "output_type": "display_data",
     "data": {
      "text/plain": "| 3       | 282.366ms    | 1.37874           | 0.231466                          | 8.33333     |",
      "text/html": "<pre>| 3       | 282.366ms    | 1.37874           | 0.231466                          | 8.33333     |</pre>"
     },
     "metadata": {}
    },
    {
     "output_type": "display_data",
     "data": {
      "text/plain": "| 4       | 303.062ms    | 1.027             | 0.154084                          | 8.33333     |",
      "text/html": "<pre>| 4       | 303.062ms    | 1.027             | 0.154084                          | 8.33333     |</pre>"
     },
     "metadata": {}
    },
    {
     "output_type": "display_data",
     "data": {
      "text/plain": "| 5       | 328.586ms    | 0.990393          | 0.182319                          | 8.33333     |",
      "text/html": "<pre>| 5       | 328.586ms    | 0.990393          | 0.182319                          | 8.33333     |</pre>"
     },
     "metadata": {}
    },
    {
     "output_type": "display_data",
     "data": {
      "text/plain": "| 9       | 416.162ms    | 0.497225          | 0.0688803                         | 8.33333     |",
      "text/html": "<pre>| 9       | 416.162ms    | 0.497225          | 0.0688803                         | 8.33333     |</pre>"
     },
     "metadata": {}
    },
    {
     "output_type": "display_data",
     "data": {
      "text/plain": "| 49      | 1.25s        | 0.332793          | 0.0910105                         | 8.33333     |",
      "text/html": "<pre>| 49      | 1.25s        | 0.332793          | 0.0910105                         | 8.33333     |</pre>"
     },
     "metadata": {}
    },
    {
     "output_type": "display_data",
     "data": {
      "text/plain": "| 99      | 2.18s        | 0.25455           | 0.0624855                         | 8.33333     |",
      "text/html": "<pre>| 99      | 2.18s        | 0.25455           | 0.0624855                         | 8.33333     |</pre>"
     },
     "metadata": {}
    },
    {
     "output_type": "display_data",
     "data": {
      "text/plain": "| 120     | 2.61s        | 0.306626          | 0.0607241                         | 8.33333     |",
      "text/html": "<pre>| 120     | 2.61s        | 0.306626          | 0.0607241                         | 8.33333     |</pre>"
     },
     "metadata": {}
    },
    {
     "output_type": "display_data",
     "data": {
      "text/plain": "+---------+--------------+-------------------+-----------------------------------+-------------+",
      "text/html": "<pre>+---------+--------------+-------------------+-----------------------------------+-------------+</pre>"
     },
     "metadata": {}
    },
    {
     "output_type": "display_data",
     "data": {
      "text/plain": "Optimization Complete: Maximum number of passes through the data reached.",
      "text/html": "<pre>Optimization Complete: Maximum number of passes through the data reached.</pre>"
     },
     "metadata": {}
    },
    {
     "output_type": "display_data",
     "data": {
      "text/plain": "Computing final objective value and training Predictive Error.",
      "text/html": "<pre>Computing final objective value and training Predictive Error.</pre>"
     },
     "metadata": {}
    },
    {
     "output_type": "display_data",
     "data": {
      "text/plain": "       Final objective value: 0.240523",
      "text/html": "<pre>       Final objective value: 0.240523</pre>"
     },
     "metadata": {}
    },
    {
     "output_type": "display_data",
     "data": {
      "text/plain": "       Final training Predictive Error: 0.0970471",
      "text/html": "<pre>       Final training Predictive Error: 0.0970471</pre>"
     },
     "metadata": {}
    }
   ],
   "source": [
    "model = tc.recommender.ranking_factorization_recommender.create(tc_books_total[columns], \n",
    "                                                        user_id=\"id_chitatelya\", random_seed=None,\n",
    "                                                        item_id=\"doc_id\",\n",
    "                                                        max_iterations=120,solver='adagrad',\n",
    "                                                        item_data=tc_books[item_columns],\n",
    "                                                                verbose=True)"
   ]
  },
  {
   "cell_type": "code",
   "execution_count": 22,
   "metadata": {},
   "outputs": [
    {
     "output_type": "display_data",
     "data": {
      "text/plain": "recommendations finished on 1000/2138 queries. users per second: 78.2701",
      "text/html": "<pre>recommendations finished on 1000/2138 queries. users per second: 78.2701</pre>"
     },
     "metadata": {}
    },
    {
     "output_type": "display_data",
     "data": {
      "text/plain": "recommendations finished on 2000/2138 queries. users per second: 80.4168",
      "text/html": "<pre>recommendations finished on 2000/2138 queries. users per second: 80.4168</pre>"
     },
     "metadata": {}
    }
   ],
   "source": [
    "recommended = model.recommend(tc_books_total[\"id_chitatelya\"].unique(), k=3, exclude_known=True)"
   ]
  },
  {
   "cell_type": "code",
   "execution_count": 23,
   "metadata": {},
   "outputs": [
    {
     "output_type": "execute_result",
     "data": {
      "text/plain": [
       "Columns:\n",
       "\tid_chitatelya\tstr\n",
       "\tdoc_id\tstr\n",
       "\tscore\tfloat\n",
       "\trank\tint\n",
       "\n",
       "Rows: 6414\n",
       "\n",
       "Data:\n",
       "+---------------+---------+-------+------+\n",
       "| id_chitatelya |  doc_id | score | rank |\n",
       "+---------------+---------+-------+------+\n",
       "|     557016    | 1454366 |  1.0  |  1   |\n",
       "|     557016    | 1451659 |  1.0  |  2   |\n",
       "|     557016    | 1465737 |  1.0  |  3   |\n",
       "|     421643    | 1454366 |  1.0  |  1   |\n",
       "|     421643    | 1465737 |  1.0  |  2   |\n",
       "|     421643    | 1473610 |  1.0  |  3   |\n",
       "|     312796    | 1454438 |  1.0  |  1   |\n",
       "|     312796    | 1451659 |  1.0  |  2   |\n",
       "|     312796    | 1465887 |  1.0  |  3   |\n",
       "|     497557    | 1451659 |  1.0  |  1   |\n",
       "+---------------+---------+-------+------+\n",
       "[6414 rows x 4 columns]\n",
       "Note: Only the head of the SFrame is printed.\n",
       "You can use print_rows(num_rows=m, num_columns=n) to print more rows and columns."
      ],
      "text/html": "<div style=\"max-height:1000px;max-width:1500px;overflow:auto;\"><table frame=\"box\" rules=\"cols\">\n    <tr>\n        <th style=\"padding-left: 1em; padding-right: 1em; text-align: center\">id_chitatelya</th>\n        <th style=\"padding-left: 1em; padding-right: 1em; text-align: center\">doc_id</th>\n        <th style=\"padding-left: 1em; padding-right: 1em; text-align: center\">score</th>\n        <th style=\"padding-left: 1em; padding-right: 1em; text-align: center\">rank</th>\n    </tr>\n    <tr>\n        <td style=\"padding-left: 1em; padding-right: 1em; text-align: center; vertical-align: top\">557016</td>\n        <td style=\"padding-left: 1em; padding-right: 1em; text-align: center; vertical-align: top\">1454366</td>\n        <td style=\"padding-left: 1em; padding-right: 1em; text-align: center; vertical-align: top\">1.0</td>\n        <td style=\"padding-left: 1em; padding-right: 1em; text-align: center; vertical-align: top\">1</td>\n    </tr>\n    <tr>\n        <td style=\"padding-left: 1em; padding-right: 1em; text-align: center; vertical-align: top\">557016</td>\n        <td style=\"padding-left: 1em; padding-right: 1em; text-align: center; vertical-align: top\">1451659</td>\n        <td style=\"padding-left: 1em; padding-right: 1em; text-align: center; vertical-align: top\">1.0</td>\n        <td style=\"padding-left: 1em; padding-right: 1em; text-align: center; vertical-align: top\">2</td>\n    </tr>\n    <tr>\n        <td style=\"padding-left: 1em; padding-right: 1em; text-align: center; vertical-align: top\">557016</td>\n        <td style=\"padding-left: 1em; padding-right: 1em; text-align: center; vertical-align: top\">1465737</td>\n        <td style=\"padding-left: 1em; padding-right: 1em; text-align: center; vertical-align: top\">1.0</td>\n        <td style=\"padding-left: 1em; padding-right: 1em; text-align: center; vertical-align: top\">3</td>\n    </tr>\n    <tr>\n        <td style=\"padding-left: 1em; padding-right: 1em; text-align: center; vertical-align: top\">421643</td>\n        <td style=\"padding-left: 1em; padding-right: 1em; text-align: center; vertical-align: top\">1454366</td>\n        <td style=\"padding-left: 1em; padding-right: 1em; text-align: center; vertical-align: top\">1.0</td>\n        <td style=\"padding-left: 1em; padding-right: 1em; text-align: center; vertical-align: top\">1</td>\n    </tr>\n    <tr>\n        <td style=\"padding-left: 1em; padding-right: 1em; text-align: center; vertical-align: top\">421643</td>\n        <td style=\"padding-left: 1em; padding-right: 1em; text-align: center; vertical-align: top\">1465737</td>\n        <td style=\"padding-left: 1em; padding-right: 1em; text-align: center; vertical-align: top\">1.0</td>\n        <td style=\"padding-left: 1em; padding-right: 1em; text-align: center; vertical-align: top\">2</td>\n    </tr>\n    <tr>\n        <td style=\"padding-left: 1em; padding-right: 1em; text-align: center; vertical-align: top\">421643</td>\n        <td style=\"padding-left: 1em; padding-right: 1em; text-align: center; vertical-align: top\">1473610</td>\n        <td style=\"padding-left: 1em; padding-right: 1em; text-align: center; vertical-align: top\">1.0</td>\n        <td style=\"padding-left: 1em; padding-right: 1em; text-align: center; vertical-align: top\">3</td>\n    </tr>\n    <tr>\n        <td style=\"padding-left: 1em; padding-right: 1em; text-align: center; vertical-align: top\">312796</td>\n        <td style=\"padding-left: 1em; padding-right: 1em; text-align: center; vertical-align: top\">1454438</td>\n        <td style=\"padding-left: 1em; padding-right: 1em; text-align: center; vertical-align: top\">1.0</td>\n        <td style=\"padding-left: 1em; padding-right: 1em; text-align: center; vertical-align: top\">1</td>\n    </tr>\n    <tr>\n        <td style=\"padding-left: 1em; padding-right: 1em; text-align: center; vertical-align: top\">312796</td>\n        <td style=\"padding-left: 1em; padding-right: 1em; text-align: center; vertical-align: top\">1451659</td>\n        <td style=\"padding-left: 1em; padding-right: 1em; text-align: center; vertical-align: top\">1.0</td>\n        <td style=\"padding-left: 1em; padding-right: 1em; text-align: center; vertical-align: top\">2</td>\n    </tr>\n    <tr>\n        <td style=\"padding-left: 1em; padding-right: 1em; text-align: center; vertical-align: top\">312796</td>\n        <td style=\"padding-left: 1em; padding-right: 1em; text-align: center; vertical-align: top\">1465887</td>\n        <td style=\"padding-left: 1em; padding-right: 1em; text-align: center; vertical-align: top\">1.0</td>\n        <td style=\"padding-left: 1em; padding-right: 1em; text-align: center; vertical-align: top\">3</td>\n    </tr>\n    <tr>\n        <td style=\"padding-left: 1em; padding-right: 1em; text-align: center; vertical-align: top\">497557</td>\n        <td style=\"padding-left: 1em; padding-right: 1em; text-align: center; vertical-align: top\">1451659</td>\n        <td style=\"padding-left: 1em; padding-right: 1em; text-align: center; vertical-align: top\">1.0</td>\n        <td style=\"padding-left: 1em; padding-right: 1em; text-align: center; vertical-align: top\">1</td>\n    </tr>\n</table>\n[6414 rows x 4 columns]<br/>Note: Only the head of the SFrame is printed.<br/>You can use print_rows(num_rows=m, num_columns=n) to print more rows and columns.\n</div>"
     },
     "metadata": {},
     "execution_count": 23
    }
   ],
   "source": [
    "recommended"
   ]
  },
  {
   "cell_type": "code",
   "execution_count": 24,
   "metadata": {},
   "outputs": [],
   "source": [
    "recoms = recommended.to_dataframe()"
   ]
  },
  {
   "cell_type": "code",
   "execution_count": 25,
   "metadata": {},
   "outputs": [],
   "source": [
    "books_catalog_check = books_catalog[['doc_id','author','tags']]"
   ]
  },
  {
   "source": [
    "# Turicreate baseline кружки"
   ],
   "cell_type": "markdown",
   "metadata": {}
  },
  {
   "cell_type": "code",
   "execution_count": 31,
   "metadata": {},
   "outputs": [],
   "source": [
    "kdf_mergerelation['merge_column'] = kdf_mergerelation['id_yslugi'].map(kdf_services.set_index('id_yslugi')['merge_column'])"
   ]
  },
  {
   "source": [
    "## Get often metro station"
   ],
   "cell_type": "markdown",
   "metadata": {}
  },
  {
   "cell_type": "code",
   "execution_count": 32,
   "metadata": {},
   "outputs": [],
   "source": [
    "kdf_mergerelation['metro'] = kdf_mergerelation['id_org'].map(kdf_organization.drop_duplicates(subset=['id_org']).set_index('id_org')['metro_new'])"
   ]
  },
  {
   "cell_type": "code",
   "execution_count": 33,
   "metadata": {},
   "outputs": [],
   "source": [
    "fav_metro = kdf_mergerelation.dropna().drop_duplicates(subset=['id_puiple','id_org']).groupby('id_puiple')['metro'].agg(lambda x: pd.Series.mode(x).iat[0]).to_frame()"
   ]
  },
  {
   "cell_type": "code",
   "execution_count": 88,
   "metadata": {},
   "outputs": [],
   "source": [
    "fav_metro['id_puiple'] = fav_metro.index"
   ]
  },
  {
   "cell_type": "code",
   "execution_count": 89,
   "metadata": {},
   "outputs": [],
   "source": [
    "fav_metro['id_puiple'] = fav_metro['id_puiple'].astype(str)\n",
    "fav_metro['metro'] = fav_metro['metro'].astype(str)"
   ]
  },
  {
   "cell_type": "code",
   "execution_count": 90,
   "metadata": {},
   "outputs": [],
   "source": [
    "tc_fav_metro = tc.SFrame(fav_metro[['id_puiple','metro']])"
   ]
  },
  {
   "cell_type": "code",
   "execution_count": 38,
   "metadata": {},
   "outputs": [],
   "source": [
    "columns_kdf = ['id_puiple',\n",
    "'merge_column']"
   ]
  },
  {
   "cell_type": "code",
   "execution_count": 39,
   "metadata": {},
   "outputs": [],
   "source": [
    "kdf_mergerelation['id_puiple'] = kdf_mergerelation['id_puiple'].astype(str)\n",
    "kdf_mergerelation['merge_column'] = kdf_mergerelation['merge_column'].astype(str)"
   ]
  },
  {
   "cell_type": "code",
   "execution_count": 40,
   "metadata": {},
   "outputs": [],
   "source": [
    "tc_kdf_total = tc.SFrame(kdf_mergerelation[['id_puiple','merge_column']])"
   ]
  },
  {
   "cell_type": "code",
   "execution_count": 41,
   "metadata": {},
   "outputs": [
    {
     "output_type": "display_data",
     "data": {
      "text/plain": "Preparing data set.",
      "text/html": "<pre>Preparing data set.</pre>"
     },
     "metadata": {}
    },
    {
     "output_type": "display_data",
     "data": {
      "text/plain": "    Data has 724813 observations with 289170 users and 16281 items.",
      "text/html": "<pre>    Data has 724813 observations with 289170 users and 16281 items.</pre>"
     },
     "metadata": {}
    },
    {
     "output_type": "display_data",
     "data": {
      "text/plain": "    Data prepared in: 0.860742s",
      "text/html": "<pre>    Data prepared in: 0.860742s</pre>"
     },
     "metadata": {}
    },
    {
     "output_type": "display_data",
     "data": {
      "text/plain": "Training ranking_factorization_recommender for recommendations.",
      "text/html": "<pre>Training ranking_factorization_recommender for recommendations.</pre>"
     },
     "metadata": {}
    },
    {
     "output_type": "display_data",
     "data": {
      "text/plain": "+--------------------------------+--------------------------------------------------+----------+",
      "text/html": "<pre>+--------------------------------+--------------------------------------------------+----------+</pre>"
     },
     "metadata": {}
    },
    {
     "output_type": "display_data",
     "data": {
      "text/plain": "| Parameter                      | Description                                      | Value    |",
      "text/html": "<pre>| Parameter                      | Description                                      | Value    |</pre>"
     },
     "metadata": {}
    },
    {
     "output_type": "display_data",
     "data": {
      "text/plain": "+--------------------------------+--------------------------------------------------+----------+",
      "text/html": "<pre>+--------------------------------+--------------------------------------------------+----------+</pre>"
     },
     "metadata": {}
    },
    {
     "output_type": "display_data",
     "data": {
      "text/plain": "| num_factors                    | Factor Dimension                                 | 32       |",
      "text/html": "<pre>| num_factors                    | Factor Dimension                                 | 32       |</pre>"
     },
     "metadata": {}
    },
    {
     "output_type": "display_data",
     "data": {
      "text/plain": "| regularization                 | L2 Regularization on Factors                     | 1e-09    |",
      "text/html": "<pre>| regularization                 | L2 Regularization on Factors                     | 1e-09    |</pre>"
     },
     "metadata": {}
    },
    {
     "output_type": "display_data",
     "data": {
      "text/plain": "| solver                         | Solver used for training                         | adagrad  |",
      "text/html": "<pre>| solver                         | Solver used for training                         | adagrad  |</pre>"
     },
     "metadata": {}
    },
    {
     "output_type": "display_data",
     "data": {
      "text/plain": "| linear_regularization          | L2 Regularization on Linear Coefficients         | 1e-09    |",
      "text/html": "<pre>| linear_regularization          | L2 Regularization on Linear Coefficients         | 1e-09    |</pre>"
     },
     "metadata": {}
    },
    {
     "output_type": "display_data",
     "data": {
      "text/plain": "| binary_target                  | Assume Binary Targets                            | True     |",
      "text/html": "<pre>| binary_target                  | Assume Binary Targets                            | True     |</pre>"
     },
     "metadata": {}
    },
    {
     "output_type": "display_data",
     "data": {
      "text/plain": "| max_iterations                 | Maximum Number of Iterations                     | 120      |",
      "text/html": "<pre>| max_iterations                 | Maximum Number of Iterations                     | 120      |</pre>"
     },
     "metadata": {}
    },
    {
     "output_type": "display_data",
     "data": {
      "text/plain": "+--------------------------------+--------------------------------------------------+----------+",
      "text/html": "<pre>+--------------------------------+--------------------------------------------------+----------+</pre>"
     },
     "metadata": {}
    },
    {
     "output_type": "display_data",
     "data": {
      "text/plain": "  Optimizing model using SGD; tuning step size.",
      "text/html": "<pre>  Optimizing model using SGD; tuning step size.</pre>"
     },
     "metadata": {}
    },
    {
     "output_type": "display_data",
     "data": {
      "text/plain": "  Using 90601 / 724813 points for tuning the step size.",
      "text/html": "<pre>  Using 90601 / 724813 points for tuning the step size.</pre>"
     },
     "metadata": {}
    },
    {
     "output_type": "display_data",
     "data": {
      "text/plain": "+---------+-------------------+------------------------------------------+",
      "text/html": "<pre>+---------+-------------------+------------------------------------------+</pre>"
     },
     "metadata": {}
    },
    {
     "output_type": "display_data",
     "data": {
      "text/plain": "| Attempt | Initial Step Size | Estimated Objective Value                |",
      "text/html": "<pre>| Attempt | Initial Step Size | Estimated Objective Value                |</pre>"
     },
     "metadata": {}
    },
    {
     "output_type": "display_data",
     "data": {
      "text/plain": "+---------+-------------------+------------------------------------------+",
      "text/html": "<pre>+---------+-------------------+------------------------------------------+</pre>"
     },
     "metadata": {}
    },
    {
     "output_type": "display_data",
     "data": {
      "text/plain": "| 0       | 25                | No Decrease (1.62244 >= 1.38645)         |",
      "text/html": "<pre>| 0       | 25                | No Decrease (1.62244 >= 1.38645)         |</pre>"
     },
     "metadata": {}
    },
    {
     "output_type": "display_data",
     "data": {
      "text/plain": "| 1       | 6.25              | 1.27152                                  |",
      "text/html": "<pre>| 1       | 6.25              | 1.27152                                  |</pre>"
     },
     "metadata": {}
    },
    {
     "output_type": "display_data",
     "data": {
      "text/plain": "| 2       | 3.125             | 1.01253                                  |",
      "text/html": "<pre>| 2       | 3.125             | 1.01253                                  |</pre>"
     },
     "metadata": {}
    },
    {
     "output_type": "display_data",
     "data": {
      "text/plain": "| 3       | 1.5625            | 0.582539                                 |",
      "text/html": "<pre>| 3       | 1.5625            | 0.582539                                 |</pre>"
     },
     "metadata": {}
    },
    {
     "output_type": "display_data",
     "data": {
      "text/plain": "| 4       | 0.78125           | 0.135463                                 |",
      "text/html": "<pre>| 4       | 0.78125           | 0.135463                                 |</pre>"
     },
     "metadata": {}
    },
    {
     "output_type": "display_data",
     "data": {
      "text/plain": "| 5       | 0.390625          | 0.0740629                                |",
      "text/html": "<pre>| 5       | 0.390625          | 0.0740629                                |</pre>"
     },
     "metadata": {}
    },
    {
     "output_type": "display_data",
     "data": {
      "text/plain": "| 6       | 0.195312          | 0.14742                                  |",
      "text/html": "<pre>| 6       | 0.195312          | 0.14742                                  |</pre>"
     },
     "metadata": {}
    },
    {
     "output_type": "display_data",
     "data": {
      "text/plain": "| 7       | 0.0976562         | 0.431045                                 |",
      "text/html": "<pre>| 7       | 0.0976562         | 0.431045                                 |</pre>"
     },
     "metadata": {}
    },
    {
     "output_type": "display_data",
     "data": {
      "text/plain": "+---------+-------------------+------------------------------------------+",
      "text/html": "<pre>+---------+-------------------+------------------------------------------+</pre>"
     },
     "metadata": {}
    },
    {
     "output_type": "display_data",
     "data": {
      "text/plain": "| Final   | 0.390625          | 0.0740629                                |",
      "text/html": "<pre>| Final   | 0.390625          | 0.0740629                                |</pre>"
     },
     "metadata": {}
    },
    {
     "output_type": "display_data",
     "data": {
      "text/plain": "+---------+-------------------+------------------------------------------+",
      "text/html": "<pre>+---------+-------------------+------------------------------------------+</pre>"
     },
     "metadata": {}
    },
    {
     "output_type": "display_data",
     "data": {
      "text/plain": "Starting Optimization.",
      "text/html": "<pre>Starting Optimization.</pre>"
     },
     "metadata": {}
    },
    {
     "output_type": "display_data",
     "data": {
      "text/plain": "+---------+--------------+-------------------+-----------------------------------+-------------+",
      "text/html": "<pre>+---------+--------------+-------------------+-----------------------------------+-------------+</pre>"
     },
     "metadata": {}
    },
    {
     "output_type": "display_data",
     "data": {
      "text/plain": "| Iter.   | Elapsed Time | Approx. Objective | Approx. Training Predictive Error | Step Size   |",
      "text/html": "<pre>| Iter.   | Elapsed Time | Approx. Objective | Approx. Training Predictive Error | Step Size   |</pre>"
     },
     "metadata": {}
    },
    {
     "output_type": "display_data",
     "data": {
      "text/plain": "+---------+--------------+-------------------+-----------------------------------+-------------+",
      "text/html": "<pre>+---------+--------------+-------------------+-----------------------------------+-------------+</pre>"
     },
     "metadata": {}
    },
    {
     "output_type": "display_data",
     "data": {
      "text/plain": "| Initial | 94us         | 1.38645           | 0.693136                          |             |",
      "text/html": "<pre>| Initial | 94us         | 1.38645           | 0.693136                          |             |</pre>"
     },
     "metadata": {}
    },
    {
     "output_type": "display_data",
     "data": {
      "text/plain": "+---------+--------------+-------------------+-----------------------------------+-------------+",
      "text/html": "<pre>+---------+--------------+-------------------+-----------------------------------+-------------+</pre>"
     },
     "metadata": {}
    },
    {
     "output_type": "display_data",
     "data": {
      "text/plain": "| 1       | 685.132ms    | 1.25304           | 0.656282                          | 0.390625    |",
      "text/html": "<pre>| 1       | 685.132ms    | 1.25304           | 0.656282                          | 0.390625    |</pre>"
     },
     "metadata": {}
    },
    {
     "output_type": "display_data",
     "data": {
      "text/plain": "| 2       | 1.17s        | 0.465397          | 0.209249                          | 0.390625    |",
      "text/html": "<pre>| 2       | 1.17s        | 0.465397          | 0.209249                          | 0.390625    |</pre>"
     },
     "metadata": {}
    },
    {
     "output_type": "display_data",
     "data": {
      "text/plain": "| 3       | 1.69s        | 0.211511          | 0.0852391                         | 0.390625    |",
      "text/html": "<pre>| 3       | 1.69s        | 0.211511          | 0.0852391                         | 0.390625    |</pre>"
     },
     "metadata": {}
    },
    {
     "output_type": "display_data",
     "data": {
      "text/plain": "| 4       | 2.25s        | 0.128196          | 0.048223                          | 0.390625    |",
      "text/html": "<pre>| 4       | 2.25s        | 0.128196          | 0.048223                          | 0.390625    |</pre>"
     },
     "metadata": {}
    },
    {
     "output_type": "display_data",
     "data": {
      "text/plain": "| 5       | 2.84s        | 0.0922997         | 0.0343889                         | 0.390625    |",
      "text/html": "<pre>| 5       | 2.84s        | 0.0922997         | 0.0343889                         | 0.390625    |</pre>"
     },
     "metadata": {}
    },
    {
     "output_type": "display_data",
     "data": {
      "text/plain": "| 10      | 5.68s        | 0.0438402         | 0.0147608                         | 0.390625    |",
      "text/html": "<pre>| 10      | 5.68s        | 0.0438402         | 0.0147608                         | 0.390625    |</pre>"
     },
     "metadata": {}
    },
    {
     "output_type": "display_data",
     "data": {
      "text/plain": "| 20      | 10.74s       | 0.0258783         | 0.00770143                        | 0.390625    |",
      "text/html": "<pre>| 20      | 10.74s       | 0.0258783         | 0.00770143                        | 0.390625    |</pre>"
     },
     "metadata": {}
    },
    {
     "output_type": "display_data",
     "data": {
      "text/plain": "| 30      | 16.58s       | 0.0196346         | 0.0053083                         | 0.390625    |",
      "text/html": "<pre>| 30      | 16.58s       | 0.0196346         | 0.0053083                         | 0.390625    |</pre>"
     },
     "metadata": {}
    },
    {
     "output_type": "display_data",
     "data": {
      "text/plain": "| 40      | 22.04s       | 0.0167767         | 0.00415419                        | 0.390625    |",
      "text/html": "<pre>| 40      | 22.04s       | 0.0167767         | 0.00415419                        | 0.390625    |</pre>"
     },
     "metadata": {}
    },
    {
     "output_type": "display_data",
     "data": {
      "text/plain": "| 50      | 26.88s       | 0.0149932         | 0.00348925                        | 0.390625    |",
      "text/html": "<pre>| 50      | 26.88s       | 0.0149932         | 0.00348925                        | 0.390625    |</pre>"
     },
     "metadata": {}
    },
    {
     "output_type": "display_data",
     "data": {
      "text/plain": "| 60      | 31.58s       | 0.0135958         | 0.00295854                        | 0.390625    |",
      "text/html": "<pre>| 60      | 31.58s       | 0.0135958         | 0.00295854                        | 0.390625    |</pre>"
     },
     "metadata": {}
    },
    {
     "output_type": "display_data",
     "data": {
      "text/plain": "| 70      | 36.24s       | 0.0126979         | 0.00255411                        | 0.390625    |",
      "text/html": "<pre>| 70      | 36.24s       | 0.0126979         | 0.00255411                        | 0.390625    |</pre>"
     },
     "metadata": {}
    },
    {
     "output_type": "display_data",
     "data": {
      "text/plain": "| 80      | 40.86s       | 0.0118166         | 0.00227558                        | 0.390625    |",
      "text/html": "<pre>| 80      | 40.86s       | 0.0118166         | 0.00227558                        | 0.390625    |</pre>"
     },
     "metadata": {}
    },
    {
     "output_type": "display_data",
     "data": {
      "text/plain": "| 90      | 45.46s       | 0.0116243         | 0.00214785                        | 0.390625    |",
      "text/html": "<pre>| 90      | 45.46s       | 0.0116243         | 0.00214785                        | 0.390625    |</pre>"
     },
     "metadata": {}
    },
    {
     "output_type": "display_data",
     "data": {
      "text/plain": "| 100     | 50.09s       | 0.0110008         | 0.00195183                        | 0.390625    |",
      "text/html": "<pre>| 100     | 50.09s       | 0.0110008         | 0.00195183                        | 0.390625    |</pre>"
     },
     "metadata": {}
    },
    {
     "output_type": "display_data",
     "data": {
      "text/plain": "| 110     | 54.82s       | 0.0107425         | 0.00181231                        | 0.390625    |",
      "text/html": "<pre>| 110     | 54.82s       | 0.0107425         | 0.00181231                        | 0.390625    |</pre>"
     },
     "metadata": {}
    },
    {
     "output_type": "display_data",
     "data": {
      "text/plain": "| 120     | 59.73s       | 0.0101695         | 0.0016559                         | 0.390625    |",
      "text/html": "<pre>| 120     | 59.73s       | 0.0101695         | 0.0016559                         | 0.390625    |</pre>"
     },
     "metadata": {}
    },
    {
     "output_type": "display_data",
     "data": {
      "text/plain": "+---------+--------------+-------------------+-----------------------------------+-------------+",
      "text/html": "<pre>+---------+--------------+-------------------+-----------------------------------+-------------+</pre>"
     },
     "metadata": {}
    },
    {
     "output_type": "display_data",
     "data": {
      "text/plain": "Optimization Complete: Maximum number of passes through the data reached.",
      "text/html": "<pre>Optimization Complete: Maximum number of passes through the data reached.</pre>"
     },
     "metadata": {}
    },
    {
     "output_type": "display_data",
     "data": {
      "text/plain": "Computing final objective value and training Predictive Error.",
      "text/html": "<pre>Computing final objective value and training Predictive Error.</pre>"
     },
     "metadata": {}
    },
    {
     "output_type": "display_data",
     "data": {
      "text/plain": "       Final objective value: 0.00997819",
      "text/html": "<pre>       Final objective value: 0.00997819</pre>"
     },
     "metadata": {}
    },
    {
     "output_type": "display_data",
     "data": {
      "text/plain": "       Final training Predictive Error: 0.00148233",
      "text/html": "<pre>       Final training Predictive Error: 0.00148233</pre>"
     },
     "metadata": {}
    }
   ],
   "source": [
    "model_kdf = tc.recommender.ranking_factorization_recommender.create(tc_kdf_total[columns_kdf], \n",
    "                                                        user_id=\"id_puiple\", random_seed=None,\n",
    "                                                        item_id=\"merge_column\",\n",
    "                                                        max_iterations=120,solver='adagrad',\n",
    "                                                                verbose=True)"
   ]
  },
  {
   "cell_type": "code",
   "execution_count": 42,
   "metadata": {},
   "outputs": [
    {
     "output_type": "display_data",
     "data": {
      "text/plain": "recommendations finished on 1000/289170 queries. users per second: 6753.15",
      "text/html": "<pre>recommendations finished on 1000/289170 queries. users per second: 6753.15</pre>"
     },
     "metadata": {}
    },
    {
     "output_type": "display_data",
     "data": {
      "text/plain": "recommendations finished on 2000/289170 queries. users per second: 6655.57",
      "text/html": "<pre>recommendations finished on 2000/289170 queries. users per second: 6655.57</pre>"
     },
     "metadata": {}
    },
    {
     "output_type": "display_data",
     "data": {
      "text/plain": "recommendations finished on 3000/289170 queries. users per second: 6586.17",
      "text/html": "<pre>recommendations finished on 3000/289170 queries. users per second: 6586.17</pre>"
     },
     "metadata": {}
    },
    {
     "output_type": "display_data",
     "data": {
      "text/plain": "recommendations finished on 4000/289170 queries. users per second: 6599.22",
      "text/html": "<pre>recommendations finished on 4000/289170 queries. users per second: 6599.22</pre>"
     },
     "metadata": {}
    },
    {
     "output_type": "display_data",
     "data": {
      "text/plain": "recommendations finished on 5000/289170 queries. users per second: 6582.59",
      "text/html": "<pre>recommendations finished on 5000/289170 queries. users per second: 6582.59</pre>"
     },
     "metadata": {}
    },
    {
     "output_type": "display_data",
     "data": {
      "text/plain": "recommendations finished on 6000/289170 queries. users per second: 6535.16",
      "text/html": "<pre>recommendations finished on 6000/289170 queries. users per second: 6535.16</pre>"
     },
     "metadata": {}
    },
    {
     "output_type": "display_data",
     "data": {
      "text/plain": "recommendations finished on 7000/289170 queries. users per second: 6524.35",
      "text/html": "<pre>recommendations finished on 7000/289170 queries. users per second: 6524.35</pre>"
     },
     "metadata": {}
    },
    {
     "output_type": "display_data",
     "data": {
      "text/plain": "recommendations finished on 8000/289170 queries. users per second: 6502.58",
      "text/html": "<pre>recommendations finished on 8000/289170 queries. users per second: 6502.58</pre>"
     },
     "metadata": {}
    },
    {
     "output_type": "display_data",
     "data": {
      "text/plain": "recommendations finished on 9000/289170 queries. users per second: 6469.24",
      "text/html": "<pre>recommendations finished on 9000/289170 queries. users per second: 6469.24</pre>"
     },
     "metadata": {}
    },
    {
     "output_type": "display_data",
     "data": {
      "text/plain": "recommendations finished on 10000/289170 queries. users per second: 6474.23",
      "text/html": "<pre>recommendations finished on 10000/289170 queries. users per second: 6474.23</pre>"
     },
     "metadata": {}
    },
    {
     "output_type": "display_data",
     "data": {
      "text/plain": "recommendations finished on 11000/289170 queries. users per second: 6460.6",
      "text/html": "<pre>recommendations finished on 11000/289170 queries. users per second: 6460.6</pre>"
     },
     "metadata": {}
    },
    {
     "output_type": "display_data",
     "data": {
      "text/plain": "recommendations finished on 12000/289170 queries. users per second: 6458.81",
      "text/html": "<pre>recommendations finished on 12000/289170 queries. users per second: 6458.81</pre>"
     },
     "metadata": {}
    },
    {
     "output_type": "display_data",
     "data": {
      "text/plain": "recommendations finished on 13000/289170 queries. users per second: 6454.8",
      "text/html": "<pre>recommendations finished on 13000/289170 queries. users per second: 6454.8</pre>"
     },
     "metadata": {}
    },
    {
     "output_type": "display_data",
     "data": {
      "text/plain": "recommendations finished on 14000/289170 queries. users per second: 6366.02",
      "text/html": "<pre>recommendations finished on 14000/289170 queries. users per second: 6366.02</pre>"
     },
     "metadata": {}
    },
    {
     "output_type": "display_data",
     "data": {
      "text/plain": "recommendations finished on 15000/289170 queries. users per second: 6214.01",
      "text/html": "<pre>recommendations finished on 15000/289170 queries. users per second: 6214.01</pre>"
     },
     "metadata": {}
    },
    {
     "output_type": "display_data",
     "data": {
      "text/plain": "recommendations finished on 16000/289170 queries. users per second: 6277.37",
      "text/html": "<pre>recommendations finished on 16000/289170 queries. users per second: 6277.37</pre>"
     },
     "metadata": {}
    },
    {
     "output_type": "display_data",
     "data": {
      "text/plain": "recommendations finished on 17000/289170 queries. users per second: 6292.01",
      "text/html": "<pre>recommendations finished on 17000/289170 queries. users per second: 6292.01</pre>"
     },
     "metadata": {}
    },
    {
     "output_type": "display_data",
     "data": {
      "text/plain": "recommendations finished on 18000/289170 queries. users per second: 6341.45",
      "text/html": "<pre>recommendations finished on 18000/289170 queries. users per second: 6341.45</pre>"
     },
     "metadata": {}
    },
    {
     "output_type": "display_data",
     "data": {
      "text/plain": "recommendations finished on 19000/289170 queries. users per second: 6384.79",
      "text/html": "<pre>recommendations finished on 19000/289170 queries. users per second: 6384.79</pre>"
     },
     "metadata": {}
    },
    {
     "output_type": "display_data",
     "data": {
      "text/plain": "recommendations finished on 20000/289170 queries. users per second: 6430.45",
      "text/html": "<pre>recommendations finished on 20000/289170 queries. users per second: 6430.45</pre>"
     },
     "metadata": {}
    },
    {
     "output_type": "display_data",
     "data": {
      "text/plain": "recommendations finished on 21000/289170 queries. users per second: 6477.45",
      "text/html": "<pre>recommendations finished on 21000/289170 queries. users per second: 6477.45</pre>"
     },
     "metadata": {}
    },
    {
     "output_type": "display_data",
     "data": {
      "text/plain": "recommendations finished on 22000/289170 queries. users per second: 6507.29",
      "text/html": "<pre>recommendations finished on 22000/289170 queries. users per second: 6507.29</pre>"
     },
     "metadata": {}
    },
    {
     "output_type": "display_data",
     "data": {
      "text/plain": "recommendations finished on 23000/289170 queries. users per second: 6534.22",
      "text/html": "<pre>recommendations finished on 23000/289170 queries. users per second: 6534.22</pre>"
     },
     "metadata": {}
    },
    {
     "output_type": "display_data",
     "data": {
      "text/plain": "recommendations finished on 24000/289170 queries. users per second: 6566.13",
      "text/html": "<pre>recommendations finished on 24000/289170 queries. users per second: 6566.13</pre>"
     },
     "metadata": {}
    },
    {
     "output_type": "display_data",
     "data": {
      "text/plain": "recommendations finished on 25000/289170 queries. users per second: 6600.19",
      "text/html": "<pre>recommendations finished on 25000/289170 queries. users per second: 6600.19</pre>"
     },
     "metadata": {}
    },
    {
     "output_type": "display_data",
     "data": {
      "text/plain": "recommendations finished on 26000/289170 queries. users per second: 6620.81",
      "text/html": "<pre>recommendations finished on 26000/289170 queries. users per second: 6620.81</pre>"
     },
     "metadata": {}
    },
    {
     "output_type": "display_data",
     "data": {
      "text/plain": "recommendations finished on 27000/289170 queries. users per second: 6643.91",
      "text/html": "<pre>recommendations finished on 27000/289170 queries. users per second: 6643.91</pre>"
     },
     "metadata": {}
    },
    {
     "output_type": "display_data",
     "data": {
      "text/plain": "recommendations finished on 28000/289170 queries. users per second: 6666.58",
      "text/html": "<pre>recommendations finished on 28000/289170 queries. users per second: 6666.58</pre>"
     },
     "metadata": {}
    },
    {
     "output_type": "display_data",
     "data": {
      "text/plain": "recommendations finished on 29000/289170 queries. users per second: 6690.75",
      "text/html": "<pre>recommendations finished on 29000/289170 queries. users per second: 6690.75</pre>"
     },
     "metadata": {}
    },
    {
     "output_type": "display_data",
     "data": {
      "text/plain": "recommendations finished on 30000/289170 queries. users per second: 6702.39",
      "text/html": "<pre>recommendations finished on 30000/289170 queries. users per second: 6702.39</pre>"
     },
     "metadata": {}
    },
    {
     "output_type": "display_data",
     "data": {
      "text/plain": "recommendations finished on 31000/289170 queries. users per second: 6720.72",
      "text/html": "<pre>recommendations finished on 31000/289170 queries. users per second: 6720.72</pre>"
     },
     "metadata": {}
    },
    {
     "output_type": "display_data",
     "data": {
      "text/plain": "recommendations finished on 32000/289170 queries. users per second: 6739.65",
      "text/html": "<pre>recommendations finished on 32000/289170 queries. users per second: 6739.65</pre>"
     },
     "metadata": {}
    },
    {
     "output_type": "display_data",
     "data": {
      "text/plain": "recommendations finished on 33000/289170 queries. users per second: 6736.27",
      "text/html": "<pre>recommendations finished on 33000/289170 queries. users per second: 6736.27</pre>"
     },
     "metadata": {}
    },
    {
     "output_type": "display_data",
     "data": {
      "text/plain": "recommendations finished on 34000/289170 queries. users per second: 6694.71",
      "text/html": "<pre>recommendations finished on 34000/289170 queries. users per second: 6694.71</pre>"
     },
     "metadata": {}
    },
    {
     "output_type": "display_data",
     "data": {
      "text/plain": "recommendations finished on 35000/289170 queries. users per second: 6681.99",
      "text/html": "<pre>recommendations finished on 35000/289170 queries. users per second: 6681.99</pre>"
     },
     "metadata": {}
    },
    {
     "output_type": "display_data",
     "data": {
      "text/plain": "recommendations finished on 36000/289170 queries. users per second: 6677.36",
      "text/html": "<pre>recommendations finished on 36000/289170 queries. users per second: 6677.36</pre>"
     },
     "metadata": {}
    },
    {
     "output_type": "display_data",
     "data": {
      "text/plain": "recommendations finished on 37000/289170 queries. users per second: 6679.44",
      "text/html": "<pre>recommendations finished on 37000/289170 queries. users per second: 6679.44</pre>"
     },
     "metadata": {}
    },
    {
     "output_type": "display_data",
     "data": {
      "text/plain": "recommendations finished on 38000/289170 queries. users per second: 6696.26",
      "text/html": "<pre>recommendations finished on 38000/289170 queries. users per second: 6696.26</pre>"
     },
     "metadata": {}
    },
    {
     "output_type": "display_data",
     "data": {
      "text/plain": "recommendations finished on 39000/289170 queries. users per second: 6709.71",
      "text/html": "<pre>recommendations finished on 39000/289170 queries. users per second: 6709.71</pre>"
     },
     "metadata": {}
    },
    {
     "output_type": "display_data",
     "data": {
      "text/plain": "recommendations finished on 40000/289170 queries. users per second: 6724.87",
      "text/html": "<pre>recommendations finished on 40000/289170 queries. users per second: 6724.87</pre>"
     },
     "metadata": {}
    },
    {
     "output_type": "display_data",
     "data": {
      "text/plain": "recommendations finished on 41000/289170 queries. users per second: 6739.56",
      "text/html": "<pre>recommendations finished on 41000/289170 queries. users per second: 6739.56</pre>"
     },
     "metadata": {}
    },
    {
     "output_type": "display_data",
     "data": {
      "text/plain": "recommendations finished on 42000/289170 queries. users per second: 6755.58",
      "text/html": "<pre>recommendations finished on 42000/289170 queries. users per second: 6755.58</pre>"
     },
     "metadata": {}
    },
    {
     "output_type": "display_data",
     "data": {
      "text/plain": "recommendations finished on 43000/289170 queries. users per second: 6761.82",
      "text/html": "<pre>recommendations finished on 43000/289170 queries. users per second: 6761.82</pre>"
     },
     "metadata": {}
    },
    {
     "output_type": "display_data",
     "data": {
      "text/plain": "recommendations finished on 44000/289170 queries. users per second: 6775.89",
      "text/html": "<pre>recommendations finished on 44000/289170 queries. users per second: 6775.89</pre>"
     },
     "metadata": {}
    },
    {
     "output_type": "display_data",
     "data": {
      "text/plain": "recommendations finished on 45000/289170 queries. users per second: 6782.47",
      "text/html": "<pre>recommendations finished on 45000/289170 queries. users per second: 6782.47</pre>"
     },
     "metadata": {}
    },
    {
     "output_type": "display_data",
     "data": {
      "text/plain": "recommendations finished on 46000/289170 queries. users per second: 6793.7",
      "text/html": "<pre>recommendations finished on 46000/289170 queries. users per second: 6793.7</pre>"
     },
     "metadata": {}
    },
    {
     "output_type": "display_data",
     "data": {
      "text/plain": "recommendations finished on 47000/289170 queries. users per second: 6800.77",
      "text/html": "<pre>recommendations finished on 47000/289170 queries. users per second: 6800.77</pre>"
     },
     "metadata": {}
    },
    {
     "output_type": "display_data",
     "data": {
      "text/plain": "recommendations finished on 48000/289170 queries. users per second: 6810.28",
      "text/html": "<pre>recommendations finished on 48000/289170 queries. users per second: 6810.28</pre>"
     },
     "metadata": {}
    },
    {
     "output_type": "display_data",
     "data": {
      "text/plain": "recommendations finished on 49000/289170 queries. users per second: 6821.01",
      "text/html": "<pre>recommendations finished on 49000/289170 queries. users per second: 6821.01</pre>"
     },
     "metadata": {}
    },
    {
     "output_type": "display_data",
     "data": {
      "text/plain": "recommendations finished on 50000/289170 queries. users per second: 6828.24",
      "text/html": "<pre>recommendations finished on 50000/289170 queries. users per second: 6828.24</pre>"
     },
     "metadata": {}
    },
    {
     "output_type": "display_data",
     "data": {
      "text/plain": "recommendations finished on 51000/289170 queries. users per second: 6832.05",
      "text/html": "<pre>recommendations finished on 51000/289170 queries. users per second: 6832.05</pre>"
     },
     "metadata": {}
    },
    {
     "output_type": "display_data",
     "data": {
      "text/plain": "recommendations finished on 52000/289170 queries. users per second: 6839.12",
      "text/html": "<pre>recommendations finished on 52000/289170 queries. users per second: 6839.12</pre>"
     },
     "metadata": {}
    },
    {
     "output_type": "display_data",
     "data": {
      "text/plain": "recommendations finished on 53000/289170 queries. users per second: 6841.15",
      "text/html": "<pre>recommendations finished on 53000/289170 queries. users per second: 6841.15</pre>"
     },
     "metadata": {}
    },
    {
     "output_type": "display_data",
     "data": {
      "text/plain": "recommendations finished on 54000/289170 queries. users per second: 6853.04",
      "text/html": "<pre>recommendations finished on 54000/289170 queries. users per second: 6853.04</pre>"
     },
     "metadata": {}
    },
    {
     "output_type": "display_data",
     "data": {
      "text/plain": "recommendations finished on 55000/289170 queries. users per second: 6855.43",
      "text/html": "<pre>recommendations finished on 55000/289170 queries. users per second: 6855.43</pre>"
     },
     "metadata": {}
    },
    {
     "output_type": "display_data",
     "data": {
      "text/plain": "recommendations finished on 56000/289170 queries. users per second: 6859.16",
      "text/html": "<pre>recommendations finished on 56000/289170 queries. users per second: 6859.16</pre>"
     },
     "metadata": {}
    },
    {
     "output_type": "display_data",
     "data": {
      "text/plain": "recommendations finished on 57000/289170 queries. users per second: 6864.86",
      "text/html": "<pre>recommendations finished on 57000/289170 queries. users per second: 6864.86</pre>"
     },
     "metadata": {}
    },
    {
     "output_type": "display_data",
     "data": {
      "text/plain": "recommendations finished on 58000/289170 queries. users per second: 6834.15",
      "text/html": "<pre>recommendations finished on 58000/289170 queries. users per second: 6834.15</pre>"
     },
     "metadata": {}
    },
    {
     "output_type": "display_data",
     "data": {
      "text/plain": "recommendations finished on 59000/289170 queries. users per second: 6811.05",
      "text/html": "<pre>recommendations finished on 59000/289170 queries. users per second: 6811.05</pre>"
     },
     "metadata": {}
    },
    {
     "output_type": "display_data",
     "data": {
      "text/plain": "recommendations finished on 60000/289170 queries. users per second: 6815.57",
      "text/html": "<pre>recommendations finished on 60000/289170 queries. users per second: 6815.57</pre>"
     },
     "metadata": {}
    },
    {
     "output_type": "display_data",
     "data": {
      "text/plain": "recommendations finished on 61000/289170 queries. users per second: 6811.89",
      "text/html": "<pre>recommendations finished on 61000/289170 queries. users per second: 6811.89</pre>"
     },
     "metadata": {}
    },
    {
     "output_type": "display_data",
     "data": {
      "text/plain": "recommendations finished on 62000/289170 queries. users per second: 6813.45",
      "text/html": "<pre>recommendations finished on 62000/289170 queries. users per second: 6813.45</pre>"
     },
     "metadata": {}
    },
    {
     "output_type": "display_data",
     "data": {
      "text/plain": "recommendations finished on 63000/289170 queries. users per second: 6819.78",
      "text/html": "<pre>recommendations finished on 63000/289170 queries. users per second: 6819.78</pre>"
     },
     "metadata": {}
    },
    {
     "output_type": "display_data",
     "data": {
      "text/plain": "recommendations finished on 64000/289170 queries. users per second: 6821.28",
      "text/html": "<pre>recommendations finished on 64000/289170 queries. users per second: 6821.28</pre>"
     },
     "metadata": {}
    },
    {
     "output_type": "display_data",
     "data": {
      "text/plain": "recommendations finished on 65000/289170 queries. users per second: 6827.16",
      "text/html": "<pre>recommendations finished on 65000/289170 queries. users per second: 6827.16</pre>"
     },
     "metadata": {}
    },
    {
     "output_type": "display_data",
     "data": {
      "text/plain": "recommendations finished on 66000/289170 queries. users per second: 6832.03",
      "text/html": "<pre>recommendations finished on 66000/289170 queries. users per second: 6832.03</pre>"
     },
     "metadata": {}
    },
    {
     "output_type": "display_data",
     "data": {
      "text/plain": "recommendations finished on 67000/289170 queries. users per second: 6832.34",
      "text/html": "<pre>recommendations finished on 67000/289170 queries. users per second: 6832.34</pre>"
     },
     "metadata": {}
    },
    {
     "output_type": "display_data",
     "data": {
      "text/plain": "recommendations finished on 68000/289170 queries. users per second: 6832.44",
      "text/html": "<pre>recommendations finished on 68000/289170 queries. users per second: 6832.44</pre>"
     },
     "metadata": {}
    },
    {
     "output_type": "display_data",
     "data": {
      "text/plain": "recommendations finished on 69000/289170 queries. users per second: 6835.5",
      "text/html": "<pre>recommendations finished on 69000/289170 queries. users per second: 6835.5</pre>"
     },
     "metadata": {}
    },
    {
     "output_type": "display_data",
     "data": {
      "text/plain": "recommendations finished on 70000/289170 queries. users per second: 6840.69",
      "text/html": "<pre>recommendations finished on 70000/289170 queries. users per second: 6840.69</pre>"
     },
     "metadata": {}
    },
    {
     "output_type": "display_data",
     "data": {
      "text/plain": "recommendations finished on 71000/289170 queries. users per second: 6845.12",
      "text/html": "<pre>recommendations finished on 71000/289170 queries. users per second: 6845.12</pre>"
     },
     "metadata": {}
    },
    {
     "output_type": "display_data",
     "data": {
      "text/plain": "recommendations finished on 72000/289170 queries. users per second: 6849.07",
      "text/html": "<pre>recommendations finished on 72000/289170 queries. users per second: 6849.07</pre>"
     },
     "metadata": {}
    },
    {
     "output_type": "display_data",
     "data": {
      "text/plain": "recommendations finished on 73000/289170 queries. users per second: 6851.8",
      "text/html": "<pre>recommendations finished on 73000/289170 queries. users per second: 6851.8</pre>"
     },
     "metadata": {}
    },
    {
     "output_type": "display_data",
     "data": {
      "text/plain": "recommendations finished on 74000/289170 queries. users per second: 6855.99",
      "text/html": "<pre>recommendations finished on 74000/289170 queries. users per second: 6855.99</pre>"
     },
     "metadata": {}
    },
    {
     "output_type": "display_data",
     "data": {
      "text/plain": "recommendations finished on 75000/289170 queries. users per second: 6858.15",
      "text/html": "<pre>recommendations finished on 75000/289170 queries. users per second: 6858.15</pre>"
     },
     "metadata": {}
    },
    {
     "output_type": "display_data",
     "data": {
      "text/plain": "recommendations finished on 76000/289170 queries. users per second: 6865.45",
      "text/html": "<pre>recommendations finished on 76000/289170 queries. users per second: 6865.45</pre>"
     },
     "metadata": {}
    },
    {
     "output_type": "display_data",
     "data": {
      "text/plain": "recommendations finished on 77000/289170 queries. users per second: 6864.71",
      "text/html": "<pre>recommendations finished on 77000/289170 queries. users per second: 6864.71</pre>"
     },
     "metadata": {}
    },
    {
     "output_type": "display_data",
     "data": {
      "text/plain": "recommendations finished on 78000/289170 queries. users per second: 6867.67",
      "text/html": "<pre>recommendations finished on 78000/289170 queries. users per second: 6867.67</pre>"
     },
     "metadata": {}
    },
    {
     "output_type": "display_data",
     "data": {
      "text/plain": "recommendations finished on 79000/289170 queries. users per second: 6871.97",
      "text/html": "<pre>recommendations finished on 79000/289170 queries. users per second: 6871.97</pre>"
     },
     "metadata": {}
    },
    {
     "output_type": "display_data",
     "data": {
      "text/plain": "recommendations finished on 80000/289170 queries. users per second: 6874.77",
      "text/html": "<pre>recommendations finished on 80000/289170 queries. users per second: 6874.77</pre>"
     },
     "metadata": {}
    },
    {
     "output_type": "display_data",
     "data": {
      "text/plain": "recommendations finished on 81000/289170 queries. users per second: 6874.8",
      "text/html": "<pre>recommendations finished on 81000/289170 queries. users per second: 6874.8</pre>"
     },
     "metadata": {}
    },
    {
     "output_type": "display_data",
     "data": {
      "text/plain": "recommendations finished on 82000/289170 queries. users per second: 6878.44",
      "text/html": "<pre>recommendations finished on 82000/289170 queries. users per second: 6878.44</pre>"
     },
     "metadata": {}
    },
    {
     "output_type": "display_data",
     "data": {
      "text/plain": "recommendations finished on 83000/289170 queries. users per second: 6883.32",
      "text/html": "<pre>recommendations finished on 83000/289170 queries. users per second: 6883.32</pre>"
     },
     "metadata": {}
    },
    {
     "output_type": "display_data",
     "data": {
      "text/plain": "recommendations finished on 84000/289170 queries. users per second: 6882.62",
      "text/html": "<pre>recommendations finished on 84000/289170 queries. users per second: 6882.62</pre>"
     },
     "metadata": {}
    },
    {
     "output_type": "display_data",
     "data": {
      "text/plain": "recommendations finished on 85000/289170 queries. users per second: 6883.66",
      "text/html": "<pre>recommendations finished on 85000/289170 queries. users per second: 6883.66</pre>"
     },
     "metadata": {}
    },
    {
     "output_type": "display_data",
     "data": {
      "text/plain": "recommendations finished on 86000/289170 queries. users per second: 6888.36",
      "text/html": "<pre>recommendations finished on 86000/289170 queries. users per second: 6888.36</pre>"
     },
     "metadata": {}
    },
    {
     "output_type": "display_data",
     "data": {
      "text/plain": "recommendations finished on 87000/289170 queries. users per second: 6887.25",
      "text/html": "<pre>recommendations finished on 87000/289170 queries. users per second: 6887.25</pre>"
     },
     "metadata": {}
    },
    {
     "output_type": "display_data",
     "data": {
      "text/plain": "recommendations finished on 88000/289170 queries. users per second: 6892.15",
      "text/html": "<pre>recommendations finished on 88000/289170 queries. users per second: 6892.15</pre>"
     },
     "metadata": {}
    },
    {
     "output_type": "display_data",
     "data": {
      "text/plain": "recommendations finished on 89000/289170 queries. users per second: 6893.04",
      "text/html": "<pre>recommendations finished on 89000/289170 queries. users per second: 6893.04</pre>"
     },
     "metadata": {}
    },
    {
     "output_type": "display_data",
     "data": {
      "text/plain": "recommendations finished on 90000/289170 queries. users per second: 6895.02",
      "text/html": "<pre>recommendations finished on 90000/289170 queries. users per second: 6895.02</pre>"
     },
     "metadata": {}
    },
    {
     "output_type": "display_data",
     "data": {
      "text/plain": "recommendations finished on 91000/289170 queries. users per second: 6891.5",
      "text/html": "<pre>recommendations finished on 91000/289170 queries. users per second: 6891.5</pre>"
     },
     "metadata": {}
    },
    {
     "output_type": "display_data",
     "data": {
      "text/plain": "recommendations finished on 92000/289170 queries. users per second: 6893",
      "text/html": "<pre>recommendations finished on 92000/289170 queries. users per second: 6893</pre>"
     },
     "metadata": {}
    },
    {
     "output_type": "display_data",
     "data": {
      "text/plain": "recommendations finished on 93000/289170 queries. users per second: 6894.45",
      "text/html": "<pre>recommendations finished on 93000/289170 queries. users per second: 6894.45</pre>"
     },
     "metadata": {}
    },
    {
     "output_type": "display_data",
     "data": {
      "text/plain": "recommendations finished on 94000/289170 queries. users per second: 6897.11",
      "text/html": "<pre>recommendations finished on 94000/289170 queries. users per second: 6897.11</pre>"
     },
     "metadata": {}
    },
    {
     "output_type": "display_data",
     "data": {
      "text/plain": "recommendations finished on 95000/289170 queries. users per second: 6900.99",
      "text/html": "<pre>recommendations finished on 95000/289170 queries. users per second: 6900.99</pre>"
     },
     "metadata": {}
    },
    {
     "output_type": "display_data",
     "data": {
      "text/plain": "recommendations finished on 96000/289170 queries. users per second: 6906.39",
      "text/html": "<pre>recommendations finished on 96000/289170 queries. users per second: 6906.39</pre>"
     },
     "metadata": {}
    },
    {
     "output_type": "display_data",
     "data": {
      "text/plain": "recommendations finished on 97000/289170 queries. users per second: 6909.23",
      "text/html": "<pre>recommendations finished on 97000/289170 queries. users per second: 6909.23</pre>"
     },
     "metadata": {}
    },
    {
     "output_type": "display_data",
     "data": {
      "text/plain": "recommendations finished on 98000/289170 queries. users per second: 6910.51",
      "text/html": "<pre>recommendations finished on 98000/289170 queries. users per second: 6910.51</pre>"
     },
     "metadata": {}
    },
    {
     "output_type": "display_data",
     "data": {
      "text/plain": "recommendations finished on 99000/289170 queries. users per second: 6915.34",
      "text/html": "<pre>recommendations finished on 99000/289170 queries. users per second: 6915.34</pre>"
     },
     "metadata": {}
    },
    {
     "output_type": "display_data",
     "data": {
      "text/plain": "recommendations finished on 100000/289170 queries. users per second: 6921.26",
      "text/html": "<pre>recommendations finished on 100000/289170 queries. users per second: 6921.26</pre>"
     },
     "metadata": {}
    },
    {
     "output_type": "display_data",
     "data": {
      "text/plain": "recommendations finished on 101000/289170 queries. users per second: 6924.78",
      "text/html": "<pre>recommendations finished on 101000/289170 queries. users per second: 6924.78</pre>"
     },
     "metadata": {}
    },
    {
     "output_type": "display_data",
     "data": {
      "text/plain": "recommendations finished on 102000/289170 queries. users per second: 6927.68",
      "text/html": "<pre>recommendations finished on 102000/289170 queries. users per second: 6927.68</pre>"
     },
     "metadata": {}
    },
    {
     "output_type": "display_data",
     "data": {
      "text/plain": "recommendations finished on 103000/289170 queries. users per second: 6931.85",
      "text/html": "<pre>recommendations finished on 103000/289170 queries. users per second: 6931.85</pre>"
     },
     "metadata": {}
    },
    {
     "output_type": "display_data",
     "data": {
      "text/plain": "recommendations finished on 104000/289170 queries. users per second: 6935.26",
      "text/html": "<pre>recommendations finished on 104000/289170 queries. users per second: 6935.26</pre>"
     },
     "metadata": {}
    },
    {
     "output_type": "display_data",
     "data": {
      "text/plain": "recommendations finished on 105000/289170 queries. users per second: 6933.04",
      "text/html": "<pre>recommendations finished on 105000/289170 queries. users per second: 6933.04</pre>"
     },
     "metadata": {}
    },
    {
     "output_type": "display_data",
     "data": {
      "text/plain": "recommendations finished on 106000/289170 queries. users per second: 6914.21",
      "text/html": "<pre>recommendations finished on 106000/289170 queries. users per second: 6914.21</pre>"
     },
     "metadata": {}
    },
    {
     "output_type": "display_data",
     "data": {
      "text/plain": "recommendations finished on 107000/289170 queries. users per second: 6908.45",
      "text/html": "<pre>recommendations finished on 107000/289170 queries. users per second: 6908.45</pre>"
     },
     "metadata": {}
    },
    {
     "output_type": "display_data",
     "data": {
      "text/plain": "recommendations finished on 108000/289170 queries. users per second: 6890.83",
      "text/html": "<pre>recommendations finished on 108000/289170 queries. users per second: 6890.83</pre>"
     },
     "metadata": {}
    },
    {
     "output_type": "display_data",
     "data": {
      "text/plain": "recommendations finished on 109000/289170 queries. users per second: 6891.97",
      "text/html": "<pre>recommendations finished on 109000/289170 queries. users per second: 6891.97</pre>"
     },
     "metadata": {}
    },
    {
     "output_type": "display_data",
     "data": {
      "text/plain": "recommendations finished on 110000/289170 queries. users per second: 6886.78",
      "text/html": "<pre>recommendations finished on 110000/289170 queries. users per second: 6886.78</pre>"
     },
     "metadata": {}
    },
    {
     "output_type": "display_data",
     "data": {
      "text/plain": "recommendations finished on 111000/289170 queries. users per second: 6888.94",
      "text/html": "<pre>recommendations finished on 111000/289170 queries. users per second: 6888.94</pre>"
     },
     "metadata": {}
    },
    {
     "output_type": "display_data",
     "data": {
      "text/plain": "recommendations finished on 112000/289170 queries. users per second: 6887.75",
      "text/html": "<pre>recommendations finished on 112000/289170 queries. users per second: 6887.75</pre>"
     },
     "metadata": {}
    },
    {
     "output_type": "display_data",
     "data": {
      "text/plain": "recommendations finished on 113000/289170 queries. users per second: 6891.91",
      "text/html": "<pre>recommendations finished on 113000/289170 queries. users per second: 6891.91</pre>"
     },
     "metadata": {}
    },
    {
     "output_type": "display_data",
     "data": {
      "text/plain": "recommendations finished on 114000/289170 queries. users per second: 6894.82",
      "text/html": "<pre>recommendations finished on 114000/289170 queries. users per second: 6894.82</pre>"
     },
     "metadata": {}
    },
    {
     "output_type": "display_data",
     "data": {
      "text/plain": "recommendations finished on 115000/289170 queries. users per second: 6896.13",
      "text/html": "<pre>recommendations finished on 115000/289170 queries. users per second: 6896.13</pre>"
     },
     "metadata": {}
    },
    {
     "output_type": "display_data",
     "data": {
      "text/plain": "recommendations finished on 116000/289170 queries. users per second: 6899.06",
      "text/html": "<pre>recommendations finished on 116000/289170 queries. users per second: 6899.06</pre>"
     },
     "metadata": {}
    },
    {
     "output_type": "display_data",
     "data": {
      "text/plain": "recommendations finished on 117000/289170 queries. users per second: 6899.53",
      "text/html": "<pre>recommendations finished on 117000/289170 queries. users per second: 6899.53</pre>"
     },
     "metadata": {}
    },
    {
     "output_type": "display_data",
     "data": {
      "text/plain": "recommendations finished on 118000/289170 queries. users per second: 6903.43",
      "text/html": "<pre>recommendations finished on 118000/289170 queries. users per second: 6903.43</pre>"
     },
     "metadata": {}
    },
    {
     "output_type": "display_data",
     "data": {
      "text/plain": "recommendations finished on 119000/289170 queries. users per second: 6905.43",
      "text/html": "<pre>recommendations finished on 119000/289170 queries. users per second: 6905.43</pre>"
     },
     "metadata": {}
    },
    {
     "output_type": "display_data",
     "data": {
      "text/plain": "recommendations finished on 120000/289170 queries. users per second: 6906.3",
      "text/html": "<pre>recommendations finished on 120000/289170 queries. users per second: 6906.3</pre>"
     },
     "metadata": {}
    },
    {
     "output_type": "display_data",
     "data": {
      "text/plain": "recommendations finished on 121000/289170 queries. users per second: 6906.27",
      "text/html": "<pre>recommendations finished on 121000/289170 queries. users per second: 6906.27</pre>"
     },
     "metadata": {}
    },
    {
     "output_type": "display_data",
     "data": {
      "text/plain": "recommendations finished on 122000/289170 queries. users per second: 6907.32",
      "text/html": "<pre>recommendations finished on 122000/289170 queries. users per second: 6907.32</pre>"
     },
     "metadata": {}
    },
    {
     "output_type": "display_data",
     "data": {
      "text/plain": "recommendations finished on 123000/289170 queries. users per second: 6910.1",
      "text/html": "<pre>recommendations finished on 123000/289170 queries. users per second: 6910.1</pre>"
     },
     "metadata": {}
    },
    {
     "output_type": "display_data",
     "data": {
      "text/plain": "recommendations finished on 124000/289170 queries. users per second: 6913.72",
      "text/html": "<pre>recommendations finished on 124000/289170 queries. users per second: 6913.72</pre>"
     },
     "metadata": {}
    },
    {
     "output_type": "display_data",
     "data": {
      "text/plain": "recommendations finished on 125000/289170 queries. users per second: 6909.18",
      "text/html": "<pre>recommendations finished on 125000/289170 queries. users per second: 6909.18</pre>"
     },
     "metadata": {}
    },
    {
     "output_type": "display_data",
     "data": {
      "text/plain": "recommendations finished on 126000/289170 queries. users per second: 6910.73",
      "text/html": "<pre>recommendations finished on 126000/289170 queries. users per second: 6910.73</pre>"
     },
     "metadata": {}
    },
    {
     "output_type": "display_data",
     "data": {
      "text/plain": "recommendations finished on 127000/289170 queries. users per second: 6913.13",
      "text/html": "<pre>recommendations finished on 127000/289170 queries. users per second: 6913.13</pre>"
     },
     "metadata": {}
    },
    {
     "output_type": "display_data",
     "data": {
      "text/plain": "recommendations finished on 128000/289170 queries. users per second: 6914.47",
      "text/html": "<pre>recommendations finished on 128000/289170 queries. users per second: 6914.47</pre>"
     },
     "metadata": {}
    },
    {
     "output_type": "display_data",
     "data": {
      "text/plain": "recommendations finished on 129000/289170 queries. users per second: 6915.43",
      "text/html": "<pre>recommendations finished on 129000/289170 queries. users per second: 6915.43</pre>"
     },
     "metadata": {}
    },
    {
     "output_type": "display_data",
     "data": {
      "text/plain": "recommendations finished on 130000/289170 queries. users per second: 6916.49",
      "text/html": "<pre>recommendations finished on 130000/289170 queries. users per second: 6916.49</pre>"
     },
     "metadata": {}
    },
    {
     "output_type": "display_data",
     "data": {
      "text/plain": "recommendations finished on 131000/289170 queries. users per second: 6917.69",
      "text/html": "<pre>recommendations finished on 131000/289170 queries. users per second: 6917.69</pre>"
     },
     "metadata": {}
    },
    {
     "output_type": "display_data",
     "data": {
      "text/plain": "recommendations finished on 132000/289170 queries. users per second: 6919.52",
      "text/html": "<pre>recommendations finished on 132000/289170 queries. users per second: 6919.52</pre>"
     },
     "metadata": {}
    },
    {
     "output_type": "display_data",
     "data": {
      "text/plain": "recommendations finished on 133000/289170 queries. users per second: 6920.13",
      "text/html": "<pre>recommendations finished on 133000/289170 queries. users per second: 6920.13</pre>"
     },
     "metadata": {}
    },
    {
     "output_type": "display_data",
     "data": {
      "text/plain": "recommendations finished on 134000/289170 queries. users per second: 6921.29",
      "text/html": "<pre>recommendations finished on 134000/289170 queries. users per second: 6921.29</pre>"
     },
     "metadata": {}
    },
    {
     "output_type": "display_data",
     "data": {
      "text/plain": "recommendations finished on 135000/289170 queries. users per second: 6921.42",
      "text/html": "<pre>recommendations finished on 135000/289170 queries. users per second: 6921.42</pre>"
     },
     "metadata": {}
    },
    {
     "output_type": "display_data",
     "data": {
      "text/plain": "recommendations finished on 136000/289170 queries. users per second: 6924.83",
      "text/html": "<pre>recommendations finished on 136000/289170 queries. users per second: 6924.83</pre>"
     },
     "metadata": {}
    },
    {
     "output_type": "display_data",
     "data": {
      "text/plain": "recommendations finished on 137000/289170 queries. users per second: 6925.96",
      "text/html": "<pre>recommendations finished on 137000/289170 queries. users per second: 6925.96</pre>"
     },
     "metadata": {}
    },
    {
     "output_type": "display_data",
     "data": {
      "text/plain": "recommendations finished on 138000/289170 queries. users per second: 6926.13",
      "text/html": "<pre>recommendations finished on 138000/289170 queries. users per second: 6926.13</pre>"
     },
     "metadata": {}
    },
    {
     "output_type": "display_data",
     "data": {
      "text/plain": "recommendations finished on 139000/289170 queries. users per second: 6926.94",
      "text/html": "<pre>recommendations finished on 139000/289170 queries. users per second: 6926.94</pre>"
     },
     "metadata": {}
    },
    {
     "output_type": "display_data",
     "data": {
      "text/plain": "recommendations finished on 140000/289170 queries. users per second: 6929.46",
      "text/html": "<pre>recommendations finished on 140000/289170 queries. users per second: 6929.46</pre>"
     },
     "metadata": {}
    },
    {
     "output_type": "display_data",
     "data": {
      "text/plain": "recommendations finished on 141000/289170 queries. users per second: 6930.16",
      "text/html": "<pre>recommendations finished on 141000/289170 queries. users per second: 6930.16</pre>"
     },
     "metadata": {}
    },
    {
     "output_type": "display_data",
     "data": {
      "text/plain": "recommendations finished on 142000/289170 queries. users per second: 6931.37",
      "text/html": "<pre>recommendations finished on 142000/289170 queries. users per second: 6931.37</pre>"
     },
     "metadata": {}
    },
    {
     "output_type": "display_data",
     "data": {
      "text/plain": "recommendations finished on 143000/289170 queries. users per second: 6929.83",
      "text/html": "<pre>recommendations finished on 143000/289170 queries. users per second: 6929.83</pre>"
     },
     "metadata": {}
    },
    {
     "output_type": "display_data",
     "data": {
      "text/plain": "recommendations finished on 144000/289170 queries. users per second: 6932.93",
      "text/html": "<pre>recommendations finished on 144000/289170 queries. users per second: 6932.93</pre>"
     },
     "metadata": {}
    },
    {
     "output_type": "display_data",
     "data": {
      "text/plain": "recommendations finished on 145000/289170 queries. users per second: 6933.99",
      "text/html": "<pre>recommendations finished on 145000/289170 queries. users per second: 6933.99</pre>"
     },
     "metadata": {}
    },
    {
     "output_type": "display_data",
     "data": {
      "text/plain": "recommendations finished on 146000/289170 queries. users per second: 6935.94",
      "text/html": "<pre>recommendations finished on 146000/289170 queries. users per second: 6935.94</pre>"
     },
     "metadata": {}
    },
    {
     "output_type": "display_data",
     "data": {
      "text/plain": "recommendations finished on 147000/289170 queries. users per second: 6938.55",
      "text/html": "<pre>recommendations finished on 147000/289170 queries. users per second: 6938.55</pre>"
     },
     "metadata": {}
    },
    {
     "output_type": "display_data",
     "data": {
      "text/plain": "recommendations finished on 148000/289170 queries. users per second: 6941.5",
      "text/html": "<pre>recommendations finished on 148000/289170 queries. users per second: 6941.5</pre>"
     },
     "metadata": {}
    },
    {
     "output_type": "display_data",
     "data": {
      "text/plain": "recommendations finished on 149000/289170 queries. users per second: 6941.82",
      "text/html": "<pre>recommendations finished on 149000/289170 queries. users per second: 6941.82</pre>"
     },
     "metadata": {}
    },
    {
     "output_type": "display_data",
     "data": {
      "text/plain": "recommendations finished on 150000/289170 queries. users per second: 6944.9",
      "text/html": "<pre>recommendations finished on 150000/289170 queries. users per second: 6944.9</pre>"
     },
     "metadata": {}
    },
    {
     "output_type": "display_data",
     "data": {
      "text/plain": "recommendations finished on 151000/289170 queries. users per second: 6947.94",
      "text/html": "<pre>recommendations finished on 151000/289170 queries. users per second: 6947.94</pre>"
     },
     "metadata": {}
    },
    {
     "output_type": "display_data",
     "data": {
      "text/plain": "recommendations finished on 152000/289170 queries. users per second: 6951.37",
      "text/html": "<pre>recommendations finished on 152000/289170 queries. users per second: 6951.37</pre>"
     },
     "metadata": {}
    },
    {
     "output_type": "display_data",
     "data": {
      "text/plain": "recommendations finished on 153000/289170 queries. users per second: 6953.22",
      "text/html": "<pre>recommendations finished on 153000/289170 queries. users per second: 6953.22</pre>"
     },
     "metadata": {}
    },
    {
     "output_type": "display_data",
     "data": {
      "text/plain": "recommendations finished on 154000/289170 queries. users per second: 6954.95",
      "text/html": "<pre>recommendations finished on 154000/289170 queries. users per second: 6954.95</pre>"
     },
     "metadata": {}
    },
    {
     "output_type": "display_data",
     "data": {
      "text/plain": "recommendations finished on 155000/289170 queries. users per second: 6957.65",
      "text/html": "<pre>recommendations finished on 155000/289170 queries. users per second: 6957.65</pre>"
     },
     "metadata": {}
    },
    {
     "output_type": "display_data",
     "data": {
      "text/plain": "recommendations finished on 156000/289170 queries. users per second: 6960.25",
      "text/html": "<pre>recommendations finished on 156000/289170 queries. users per second: 6960.25</pre>"
     },
     "metadata": {}
    },
    {
     "output_type": "display_data",
     "data": {
      "text/plain": "recommendations finished on 157000/289170 queries. users per second: 6961.7",
      "text/html": "<pre>recommendations finished on 157000/289170 queries. users per second: 6961.7</pre>"
     },
     "metadata": {}
    },
    {
     "output_type": "display_data",
     "data": {
      "text/plain": "recommendations finished on 158000/289170 queries. users per second: 6964.77",
      "text/html": "<pre>recommendations finished on 158000/289170 queries. users per second: 6964.77</pre>"
     },
     "metadata": {}
    },
    {
     "output_type": "display_data",
     "data": {
      "text/plain": "recommendations finished on 159000/289170 queries. users per second: 6967.64",
      "text/html": "<pre>recommendations finished on 159000/289170 queries. users per second: 6967.64</pre>"
     },
     "metadata": {}
    },
    {
     "output_type": "display_data",
     "data": {
      "text/plain": "recommendations finished on 160000/289170 queries. users per second: 6970.35",
      "text/html": "<pre>recommendations finished on 160000/289170 queries. users per second: 6970.35</pre>"
     },
     "metadata": {}
    },
    {
     "output_type": "display_data",
     "data": {
      "text/plain": "recommendations finished on 161000/289170 queries. users per second: 6973.82",
      "text/html": "<pre>recommendations finished on 161000/289170 queries. users per second: 6973.82</pre>"
     },
     "metadata": {}
    },
    {
     "output_type": "display_data",
     "data": {
      "text/plain": "recommendations finished on 162000/289170 queries. users per second: 6976.59",
      "text/html": "<pre>recommendations finished on 162000/289170 queries. users per second: 6976.59</pre>"
     },
     "metadata": {}
    },
    {
     "output_type": "display_data",
     "data": {
      "text/plain": "recommendations finished on 163000/289170 queries. users per second: 6978.97",
      "text/html": "<pre>recommendations finished on 163000/289170 queries. users per second: 6978.97</pre>"
     },
     "metadata": {}
    },
    {
     "output_type": "display_data",
     "data": {
      "text/plain": "recommendations finished on 164000/289170 queries. users per second: 6981.36",
      "text/html": "<pre>recommendations finished on 164000/289170 queries. users per second: 6981.36</pre>"
     },
     "metadata": {}
    },
    {
     "output_type": "display_data",
     "data": {
      "text/plain": "recommendations finished on 165000/289170 queries. users per second: 6981.14",
      "text/html": "<pre>recommendations finished on 165000/289170 queries. users per second: 6981.14</pre>"
     },
     "metadata": {}
    },
    {
     "output_type": "display_data",
     "data": {
      "text/plain": "recommendations finished on 166000/289170 queries. users per second: 6984.24",
      "text/html": "<pre>recommendations finished on 166000/289170 queries. users per second: 6984.24</pre>"
     },
     "metadata": {}
    },
    {
     "output_type": "display_data",
     "data": {
      "text/plain": "recommendations finished on 167000/289170 queries. users per second: 6986.88",
      "text/html": "<pre>recommendations finished on 167000/289170 queries. users per second: 6986.88</pre>"
     },
     "metadata": {}
    },
    {
     "output_type": "display_data",
     "data": {
      "text/plain": "recommendations finished on 168000/289170 queries. users per second: 6990.56",
      "text/html": "<pre>recommendations finished on 168000/289170 queries. users per second: 6990.56</pre>"
     },
     "metadata": {}
    },
    {
     "output_type": "display_data",
     "data": {
      "text/plain": "recommendations finished on 169000/289170 queries. users per second: 6991.97",
      "text/html": "<pre>recommendations finished on 169000/289170 queries. users per second: 6991.97</pre>"
     },
     "metadata": {}
    },
    {
     "output_type": "display_data",
     "data": {
      "text/plain": "recommendations finished on 170000/289170 queries. users per second: 6994.84",
      "text/html": "<pre>recommendations finished on 170000/289170 queries. users per second: 6994.84</pre>"
     },
     "metadata": {}
    },
    {
     "output_type": "display_data",
     "data": {
      "text/plain": "recommendations finished on 171000/289170 queries. users per second: 6995.4",
      "text/html": "<pre>recommendations finished on 171000/289170 queries. users per second: 6995.4</pre>"
     },
     "metadata": {}
    },
    {
     "output_type": "display_data",
     "data": {
      "text/plain": "recommendations finished on 172000/289170 queries. users per second: 6996.96",
      "text/html": "<pre>recommendations finished on 172000/289170 queries. users per second: 6996.96</pre>"
     },
     "metadata": {}
    },
    {
     "output_type": "display_data",
     "data": {
      "text/plain": "recommendations finished on 173000/289170 queries. users per second: 6999.31",
      "text/html": "<pre>recommendations finished on 173000/289170 queries. users per second: 6999.31</pre>"
     },
     "metadata": {}
    },
    {
     "output_type": "display_data",
     "data": {
      "text/plain": "recommendations finished on 174000/289170 queries. users per second: 7000.22",
      "text/html": "<pre>recommendations finished on 174000/289170 queries. users per second: 7000.22</pre>"
     },
     "metadata": {}
    },
    {
     "output_type": "display_data",
     "data": {
      "text/plain": "recommendations finished on 175000/289170 queries. users per second: 7001.09",
      "text/html": "<pre>recommendations finished on 175000/289170 queries. users per second: 7001.09</pre>"
     },
     "metadata": {}
    },
    {
     "output_type": "display_data",
     "data": {
      "text/plain": "recommendations finished on 176000/289170 queries. users per second: 7003.41",
      "text/html": "<pre>recommendations finished on 176000/289170 queries. users per second: 7003.41</pre>"
     },
     "metadata": {}
    },
    {
     "output_type": "display_data",
     "data": {
      "text/plain": "recommendations finished on 177000/289170 queries. users per second: 7003.98",
      "text/html": "<pre>recommendations finished on 177000/289170 queries. users per second: 7003.98</pre>"
     },
     "metadata": {}
    },
    {
     "output_type": "display_data",
     "data": {
      "text/plain": "recommendations finished on 178000/289170 queries. users per second: 7002.95",
      "text/html": "<pre>recommendations finished on 178000/289170 queries. users per second: 7002.95</pre>"
     },
     "metadata": {}
    },
    {
     "output_type": "display_data",
     "data": {
      "text/plain": "recommendations finished on 179000/289170 queries. users per second: 7002.37",
      "text/html": "<pre>recommendations finished on 179000/289170 queries. users per second: 7002.37</pre>"
     },
     "metadata": {}
    },
    {
     "output_type": "display_data",
     "data": {
      "text/plain": "recommendations finished on 180000/289170 queries. users per second: 6999.54",
      "text/html": "<pre>recommendations finished on 180000/289170 queries. users per second: 6999.54</pre>"
     },
     "metadata": {}
    },
    {
     "output_type": "display_data",
     "data": {
      "text/plain": "recommendations finished on 181000/289170 queries. users per second: 6999.23",
      "text/html": "<pre>recommendations finished on 181000/289170 queries. users per second: 6999.23</pre>"
     },
     "metadata": {}
    },
    {
     "output_type": "display_data",
     "data": {
      "text/plain": "recommendations finished on 182000/289170 queries. users per second: 6989.97",
      "text/html": "<pre>recommendations finished on 182000/289170 queries. users per second: 6989.97</pre>"
     },
     "metadata": {}
    },
    {
     "output_type": "display_data",
     "data": {
      "text/plain": "recommendations finished on 183000/289170 queries. users per second: 6988.59",
      "text/html": "<pre>recommendations finished on 183000/289170 queries. users per second: 6988.59</pre>"
     },
     "metadata": {}
    },
    {
     "output_type": "display_data",
     "data": {
      "text/plain": "recommendations finished on 184000/289170 queries. users per second: 6985.09",
      "text/html": "<pre>recommendations finished on 184000/289170 queries. users per second: 6985.09</pre>"
     },
     "metadata": {}
    },
    {
     "output_type": "display_data",
     "data": {
      "text/plain": "recommendations finished on 185000/289170 queries. users per second: 6984.13",
      "text/html": "<pre>recommendations finished on 185000/289170 queries. users per second: 6984.13</pre>"
     },
     "metadata": {}
    },
    {
     "output_type": "display_data",
     "data": {
      "text/plain": "recommendations finished on 186000/289170 queries. users per second: 6985.72",
      "text/html": "<pre>recommendations finished on 186000/289170 queries. users per second: 6985.72</pre>"
     },
     "metadata": {}
    },
    {
     "output_type": "display_data",
     "data": {
      "text/plain": "recommendations finished on 187000/289170 queries. users per second: 6984.86",
      "text/html": "<pre>recommendations finished on 187000/289170 queries. users per second: 6984.86</pre>"
     },
     "metadata": {}
    },
    {
     "output_type": "display_data",
     "data": {
      "text/plain": "recommendations finished on 188000/289170 queries. users per second: 6984.27",
      "text/html": "<pre>recommendations finished on 188000/289170 queries. users per second: 6984.27</pre>"
     },
     "metadata": {}
    },
    {
     "output_type": "display_data",
     "data": {
      "text/plain": "recommendations finished on 189000/289170 queries. users per second: 6984.92",
      "text/html": "<pre>recommendations finished on 189000/289170 queries. users per second: 6984.92</pre>"
     },
     "metadata": {}
    },
    {
     "output_type": "display_data",
     "data": {
      "text/plain": "recommendations finished on 190000/289170 queries. users per second: 6984.89",
      "text/html": "<pre>recommendations finished on 190000/289170 queries. users per second: 6984.89</pre>"
     },
     "metadata": {}
    },
    {
     "output_type": "display_data",
     "data": {
      "text/plain": "recommendations finished on 191000/289170 queries. users per second: 6984.4",
      "text/html": "<pre>recommendations finished on 191000/289170 queries. users per second: 6984.4</pre>"
     },
     "metadata": {}
    },
    {
     "output_type": "display_data",
     "data": {
      "text/plain": "recommendations finished on 192000/289170 queries. users per second: 6985.95",
      "text/html": "<pre>recommendations finished on 192000/289170 queries. users per second: 6985.95</pre>"
     },
     "metadata": {}
    },
    {
     "output_type": "display_data",
     "data": {
      "text/plain": "recommendations finished on 193000/289170 queries. users per second: 6987.38",
      "text/html": "<pre>recommendations finished on 193000/289170 queries. users per second: 6987.38</pre>"
     },
     "metadata": {}
    },
    {
     "output_type": "display_data",
     "data": {
      "text/plain": "recommendations finished on 194000/289170 queries. users per second: 6985.11",
      "text/html": "<pre>recommendations finished on 194000/289170 queries. users per second: 6985.11</pre>"
     },
     "metadata": {}
    },
    {
     "output_type": "display_data",
     "data": {
      "text/plain": "recommendations finished on 195000/289170 queries. users per second: 6986.23",
      "text/html": "<pre>recommendations finished on 195000/289170 queries. users per second: 6986.23</pre>"
     },
     "metadata": {}
    },
    {
     "output_type": "display_data",
     "data": {
      "text/plain": "recommendations finished on 196000/289170 queries. users per second: 6988.3",
      "text/html": "<pre>recommendations finished on 196000/289170 queries. users per second: 6988.3</pre>"
     },
     "metadata": {}
    },
    {
     "output_type": "display_data",
     "data": {
      "text/plain": "recommendations finished on 197000/289170 queries. users per second: 6989.02",
      "text/html": "<pre>recommendations finished on 197000/289170 queries. users per second: 6989.02</pre>"
     },
     "metadata": {}
    },
    {
     "output_type": "display_data",
     "data": {
      "text/plain": "recommendations finished on 198000/289170 queries. users per second: 6987.18",
      "text/html": "<pre>recommendations finished on 198000/289170 queries. users per second: 6987.18</pre>"
     },
     "metadata": {}
    },
    {
     "output_type": "display_data",
     "data": {
      "text/plain": "recommendations finished on 199000/289170 queries. users per second: 6990.1",
      "text/html": "<pre>recommendations finished on 199000/289170 queries. users per second: 6990.1</pre>"
     },
     "metadata": {}
    },
    {
     "output_type": "display_data",
     "data": {
      "text/plain": "recommendations finished on 200000/289170 queries. users per second: 6989.97",
      "text/html": "<pre>recommendations finished on 200000/289170 queries. users per second: 6989.97</pre>"
     },
     "metadata": {}
    },
    {
     "output_type": "display_data",
     "data": {
      "text/plain": "recommendations finished on 201000/289170 queries. users per second: 6990.4",
      "text/html": "<pre>recommendations finished on 201000/289170 queries. users per second: 6990.4</pre>"
     },
     "metadata": {}
    },
    {
     "output_type": "display_data",
     "data": {
      "text/plain": "recommendations finished on 202000/289170 queries. users per second: 6990.43",
      "text/html": "<pre>recommendations finished on 202000/289170 queries. users per second: 6990.43</pre>"
     },
     "metadata": {}
    },
    {
     "output_type": "display_data",
     "data": {
      "text/plain": "recommendations finished on 203000/289170 queries. users per second: 6992.32",
      "text/html": "<pre>recommendations finished on 203000/289170 queries. users per second: 6992.32</pre>"
     },
     "metadata": {}
    },
    {
     "output_type": "display_data",
     "data": {
      "text/plain": "recommendations finished on 204000/289170 queries. users per second: 6992.84",
      "text/html": "<pre>recommendations finished on 204000/289170 queries. users per second: 6992.84</pre>"
     },
     "metadata": {}
    },
    {
     "output_type": "display_data",
     "data": {
      "text/plain": "recommendations finished on 205000/289170 queries. users per second: 6993.32",
      "text/html": "<pre>recommendations finished on 205000/289170 queries. users per second: 6993.32</pre>"
     },
     "metadata": {}
    },
    {
     "output_type": "display_data",
     "data": {
      "text/plain": "recommendations finished on 206000/289170 queries. users per second: 6994.43",
      "text/html": "<pre>recommendations finished on 206000/289170 queries. users per second: 6994.43</pre>"
     },
     "metadata": {}
    },
    {
     "output_type": "display_data",
     "data": {
      "text/plain": "recommendations finished on 207000/289170 queries. users per second: 6993.89",
      "text/html": "<pre>recommendations finished on 207000/289170 queries. users per second: 6993.89</pre>"
     },
     "metadata": {}
    },
    {
     "output_type": "display_data",
     "data": {
      "text/plain": "recommendations finished on 208000/289170 queries. users per second: 6996.63",
      "text/html": "<pre>recommendations finished on 208000/289170 queries. users per second: 6996.63</pre>"
     },
     "metadata": {}
    },
    {
     "output_type": "display_data",
     "data": {
      "text/plain": "recommendations finished on 209000/289170 queries. users per second: 6996.57",
      "text/html": "<pre>recommendations finished on 209000/289170 queries. users per second: 6996.57</pre>"
     },
     "metadata": {}
    },
    {
     "output_type": "display_data",
     "data": {
      "text/plain": "recommendations finished on 210000/289170 queries. users per second: 6996.36",
      "text/html": "<pre>recommendations finished on 210000/289170 queries. users per second: 6996.36</pre>"
     },
     "metadata": {}
    },
    {
     "output_type": "display_data",
     "data": {
      "text/plain": "recommendations finished on 211000/289170 queries. users per second: 6995.37",
      "text/html": "<pre>recommendations finished on 211000/289170 queries. users per second: 6995.37</pre>"
     },
     "metadata": {}
    },
    {
     "output_type": "display_data",
     "data": {
      "text/plain": "recommendations finished on 212000/289170 queries. users per second: 6994.88",
      "text/html": "<pre>recommendations finished on 212000/289170 queries. users per second: 6994.88</pre>"
     },
     "metadata": {}
    },
    {
     "output_type": "display_data",
     "data": {
      "text/plain": "recommendations finished on 213000/289170 queries. users per second: 6991.81",
      "text/html": "<pre>recommendations finished on 213000/289170 queries. users per second: 6991.81</pre>"
     },
     "metadata": {}
    },
    {
     "output_type": "display_data",
     "data": {
      "text/plain": "recommendations finished on 214000/289170 queries. users per second: 6985.45",
      "text/html": "<pre>recommendations finished on 214000/289170 queries. users per second: 6985.45</pre>"
     },
     "metadata": {}
    },
    {
     "output_type": "display_data",
     "data": {
      "text/plain": "recommendations finished on 215000/289170 queries. users per second: 6981.88",
      "text/html": "<pre>recommendations finished on 215000/289170 queries. users per second: 6981.88</pre>"
     },
     "metadata": {}
    },
    {
     "output_type": "display_data",
     "data": {
      "text/plain": "recommendations finished on 216000/289170 queries. users per second: 6981.48",
      "text/html": "<pre>recommendations finished on 216000/289170 queries. users per second: 6981.48</pre>"
     },
     "metadata": {}
    },
    {
     "output_type": "display_data",
     "data": {
      "text/plain": "recommendations finished on 217000/289170 queries. users per second: 6982.64",
      "text/html": "<pre>recommendations finished on 217000/289170 queries. users per second: 6982.64</pre>"
     },
     "metadata": {}
    },
    {
     "output_type": "display_data",
     "data": {
      "text/plain": "recommendations finished on 218000/289170 queries. users per second: 6984.53",
      "text/html": "<pre>recommendations finished on 218000/289170 queries. users per second: 6984.53</pre>"
     },
     "metadata": {}
    },
    {
     "output_type": "display_data",
     "data": {
      "text/plain": "recommendations finished on 219000/289170 queries. users per second: 6984.93",
      "text/html": "<pre>recommendations finished on 219000/289170 queries. users per second: 6984.93</pre>"
     },
     "metadata": {}
    },
    {
     "output_type": "display_data",
     "data": {
      "text/plain": "recommendations finished on 220000/289170 queries. users per second: 6981.43",
      "text/html": "<pre>recommendations finished on 220000/289170 queries. users per second: 6981.43</pre>"
     },
     "metadata": {}
    },
    {
     "output_type": "display_data",
     "data": {
      "text/plain": "recommendations finished on 221000/289170 queries. users per second: 6975.54",
      "text/html": "<pre>recommendations finished on 221000/289170 queries. users per second: 6975.54</pre>"
     },
     "metadata": {}
    },
    {
     "output_type": "display_data",
     "data": {
      "text/plain": "recommendations finished on 222000/289170 queries. users per second: 6976.5",
      "text/html": "<pre>recommendations finished on 222000/289170 queries. users per second: 6976.5</pre>"
     },
     "metadata": {}
    },
    {
     "output_type": "display_data",
     "data": {
      "text/plain": "recommendations finished on 223000/289170 queries. users per second: 6977.3",
      "text/html": "<pre>recommendations finished on 223000/289170 queries. users per second: 6977.3</pre>"
     },
     "metadata": {}
    },
    {
     "output_type": "display_data",
     "data": {
      "text/plain": "recommendations finished on 224000/289170 queries. users per second: 6975.11",
      "text/html": "<pre>recommendations finished on 224000/289170 queries. users per second: 6975.11</pre>"
     },
     "metadata": {}
    },
    {
     "output_type": "display_data",
     "data": {
      "text/plain": "recommendations finished on 225000/289170 queries. users per second: 6976.31",
      "text/html": "<pre>recommendations finished on 225000/289170 queries. users per second: 6976.31</pre>"
     },
     "metadata": {}
    },
    {
     "output_type": "display_data",
     "data": {
      "text/plain": "recommendations finished on 226000/289170 queries. users per second: 6977.2",
      "text/html": "<pre>recommendations finished on 226000/289170 queries. users per second: 6977.2</pre>"
     },
     "metadata": {}
    },
    {
     "output_type": "display_data",
     "data": {
      "text/plain": "recommendations finished on 227000/289170 queries. users per second: 6976.45",
      "text/html": "<pre>recommendations finished on 227000/289170 queries. users per second: 6976.45</pre>"
     },
     "metadata": {}
    },
    {
     "output_type": "display_data",
     "data": {
      "text/plain": "recommendations finished on 228000/289170 queries. users per second: 6974.8",
      "text/html": "<pre>recommendations finished on 228000/289170 queries. users per second: 6974.8</pre>"
     },
     "metadata": {}
    },
    {
     "output_type": "display_data",
     "data": {
      "text/plain": "recommendations finished on 229000/289170 queries. users per second: 6966.22",
      "text/html": "<pre>recommendations finished on 229000/289170 queries. users per second: 6966.22</pre>"
     },
     "metadata": {}
    },
    {
     "output_type": "display_data",
     "data": {
      "text/plain": "recommendations finished on 230000/289170 queries. users per second: 6964.36",
      "text/html": "<pre>recommendations finished on 230000/289170 queries. users per second: 6964.36</pre>"
     },
     "metadata": {}
    },
    {
     "output_type": "display_data",
     "data": {
      "text/plain": "recommendations finished on 231000/289170 queries. users per second: 6966.62",
      "text/html": "<pre>recommendations finished on 231000/289170 queries. users per second: 6966.62</pre>"
     },
     "metadata": {}
    },
    {
     "output_type": "display_data",
     "data": {
      "text/plain": "recommendations finished on 232000/289170 queries. users per second: 6966.51",
      "text/html": "<pre>recommendations finished on 232000/289170 queries. users per second: 6966.51</pre>"
     },
     "metadata": {}
    },
    {
     "output_type": "display_data",
     "data": {
      "text/plain": "recommendations finished on 233000/289170 queries. users per second: 6965.69",
      "text/html": "<pre>recommendations finished on 233000/289170 queries. users per second: 6965.69</pre>"
     },
     "metadata": {}
    },
    {
     "output_type": "display_data",
     "data": {
      "text/plain": "recommendations finished on 234000/289170 queries. users per second: 6959.72",
      "text/html": "<pre>recommendations finished on 234000/289170 queries. users per second: 6959.72</pre>"
     },
     "metadata": {}
    },
    {
     "output_type": "display_data",
     "data": {
      "text/plain": "recommendations finished on 235000/289170 queries. users per second: 6960.04",
      "text/html": "<pre>recommendations finished on 235000/289170 queries. users per second: 6960.04</pre>"
     },
     "metadata": {}
    },
    {
     "output_type": "display_data",
     "data": {
      "text/plain": "recommendations finished on 236000/289170 queries. users per second: 6959.27",
      "text/html": "<pre>recommendations finished on 236000/289170 queries. users per second: 6959.27</pre>"
     },
     "metadata": {}
    },
    {
     "output_type": "display_data",
     "data": {
      "text/plain": "recommendations finished on 237000/289170 queries. users per second: 6960.81",
      "text/html": "<pre>recommendations finished on 237000/289170 queries. users per second: 6960.81</pre>"
     },
     "metadata": {}
    },
    {
     "output_type": "display_data",
     "data": {
      "text/plain": "recommendations finished on 238000/289170 queries. users per second: 6961.22",
      "text/html": "<pre>recommendations finished on 238000/289170 queries. users per second: 6961.22</pre>"
     },
     "metadata": {}
    },
    {
     "output_type": "display_data",
     "data": {
      "text/plain": "recommendations finished on 239000/289170 queries. users per second: 6961.33",
      "text/html": "<pre>recommendations finished on 239000/289170 queries. users per second: 6961.33</pre>"
     },
     "metadata": {}
    },
    {
     "output_type": "display_data",
     "data": {
      "text/plain": "recommendations finished on 240000/289170 queries. users per second: 6961.63",
      "text/html": "<pre>recommendations finished on 240000/289170 queries. users per second: 6961.63</pre>"
     },
     "metadata": {}
    },
    {
     "output_type": "display_data",
     "data": {
      "text/plain": "recommendations finished on 241000/289170 queries. users per second: 6961.5",
      "text/html": "<pre>recommendations finished on 241000/289170 queries. users per second: 6961.5</pre>"
     },
     "metadata": {}
    },
    {
     "output_type": "display_data",
     "data": {
      "text/plain": "recommendations finished on 242000/289170 queries. users per second: 6960.92",
      "text/html": "<pre>recommendations finished on 242000/289170 queries. users per second: 6960.92</pre>"
     },
     "metadata": {}
    },
    {
     "output_type": "display_data",
     "data": {
      "text/plain": "recommendations finished on 243000/289170 queries. users per second: 6959.22",
      "text/html": "<pre>recommendations finished on 243000/289170 queries. users per second: 6959.22</pre>"
     },
     "metadata": {}
    },
    {
     "output_type": "display_data",
     "data": {
      "text/plain": "recommendations finished on 244000/289170 queries. users per second: 6958.89",
      "text/html": "<pre>recommendations finished on 244000/289170 queries. users per second: 6958.89</pre>"
     },
     "metadata": {}
    },
    {
     "output_type": "display_data",
     "data": {
      "text/plain": "recommendations finished on 245000/289170 queries. users per second: 6958.94",
      "text/html": "<pre>recommendations finished on 245000/289170 queries. users per second: 6958.94</pre>"
     },
     "metadata": {}
    },
    {
     "output_type": "display_data",
     "data": {
      "text/plain": "recommendations finished on 246000/289170 queries. users per second: 6958.83",
      "text/html": "<pre>recommendations finished on 246000/289170 queries. users per second: 6958.83</pre>"
     },
     "metadata": {}
    },
    {
     "output_type": "display_data",
     "data": {
      "text/plain": "recommendations finished on 247000/289170 queries. users per second: 6960.78",
      "text/html": "<pre>recommendations finished on 247000/289170 queries. users per second: 6960.78</pre>"
     },
     "metadata": {}
    },
    {
     "output_type": "display_data",
     "data": {
      "text/plain": "recommendations finished on 248000/289170 queries. users per second: 6960.61",
      "text/html": "<pre>recommendations finished on 248000/289170 queries. users per second: 6960.61</pre>"
     },
     "metadata": {}
    },
    {
     "output_type": "display_data",
     "data": {
      "text/plain": "recommendations finished on 249000/289170 queries. users per second: 6959.77",
      "text/html": "<pre>recommendations finished on 249000/289170 queries. users per second: 6959.77</pre>"
     },
     "metadata": {}
    },
    {
     "output_type": "display_data",
     "data": {
      "text/plain": "recommendations finished on 250000/289170 queries. users per second: 6959.9",
      "text/html": "<pre>recommendations finished on 250000/289170 queries. users per second: 6959.9</pre>"
     },
     "metadata": {}
    },
    {
     "output_type": "display_data",
     "data": {
      "text/plain": "recommendations finished on 251000/289170 queries. users per second: 6962.55",
      "text/html": "<pre>recommendations finished on 251000/289170 queries. users per second: 6962.55</pre>"
     },
     "metadata": {}
    },
    {
     "output_type": "display_data",
     "data": {
      "text/plain": "recommendations finished on 252000/289170 queries. users per second: 6963.76",
      "text/html": "<pre>recommendations finished on 252000/289170 queries. users per second: 6963.76</pre>"
     },
     "metadata": {}
    },
    {
     "output_type": "display_data",
     "data": {
      "text/plain": "recommendations finished on 253000/289170 queries. users per second: 6964.86",
      "text/html": "<pre>recommendations finished on 253000/289170 queries. users per second: 6964.86</pre>"
     },
     "metadata": {}
    },
    {
     "output_type": "display_data",
     "data": {
      "text/plain": "recommendations finished on 254000/289170 queries. users per second: 6966.78",
      "text/html": "<pre>recommendations finished on 254000/289170 queries. users per second: 6966.78</pre>"
     },
     "metadata": {}
    },
    {
     "output_type": "display_data",
     "data": {
      "text/plain": "recommendations finished on 255000/289170 queries. users per second: 6967.85",
      "text/html": "<pre>recommendations finished on 255000/289170 queries. users per second: 6967.85</pre>"
     },
     "metadata": {}
    },
    {
     "output_type": "display_data",
     "data": {
      "text/plain": "recommendations finished on 256000/289170 queries. users per second: 6965.42",
      "text/html": "<pre>recommendations finished on 256000/289170 queries. users per second: 6965.42</pre>"
     },
     "metadata": {}
    },
    {
     "output_type": "display_data",
     "data": {
      "text/plain": "recommendations finished on 257000/289170 queries. users per second: 6967.96",
      "text/html": "<pre>recommendations finished on 257000/289170 queries. users per second: 6967.96</pre>"
     },
     "metadata": {}
    },
    {
     "output_type": "display_data",
     "data": {
      "text/plain": "recommendations finished on 258000/289170 queries. users per second: 6970.24",
      "text/html": "<pre>recommendations finished on 258000/289170 queries. users per second: 6970.24</pre>"
     },
     "metadata": {}
    },
    {
     "output_type": "display_data",
     "data": {
      "text/plain": "recommendations finished on 259000/289170 queries. users per second: 6972.36",
      "text/html": "<pre>recommendations finished on 259000/289170 queries. users per second: 6972.36</pre>"
     },
     "metadata": {}
    },
    {
     "output_type": "display_data",
     "data": {
      "text/plain": "recommendations finished on 260000/289170 queries. users per second: 6974.43",
      "text/html": "<pre>recommendations finished on 260000/289170 queries. users per second: 6974.43</pre>"
     },
     "metadata": {}
    },
    {
     "output_type": "display_data",
     "data": {
      "text/plain": "recommendations finished on 261000/289170 queries. users per second: 6976.69",
      "text/html": "<pre>recommendations finished on 261000/289170 queries. users per second: 6976.69</pre>"
     },
     "metadata": {}
    },
    {
     "output_type": "display_data",
     "data": {
      "text/plain": "recommendations finished on 262000/289170 queries. users per second: 6978.05",
      "text/html": "<pre>recommendations finished on 262000/289170 queries. users per second: 6978.05</pre>"
     },
     "metadata": {}
    },
    {
     "output_type": "display_data",
     "data": {
      "text/plain": "recommendations finished on 263000/289170 queries. users per second: 6979.32",
      "text/html": "<pre>recommendations finished on 263000/289170 queries. users per second: 6979.32</pre>"
     },
     "metadata": {}
    },
    {
     "output_type": "display_data",
     "data": {
      "text/plain": "recommendations finished on 264000/289170 queries. users per second: 6980.23",
      "text/html": "<pre>recommendations finished on 264000/289170 queries. users per second: 6980.23</pre>"
     },
     "metadata": {}
    },
    {
     "output_type": "display_data",
     "data": {
      "text/plain": "recommendations finished on 265000/289170 queries. users per second: 6980.35",
      "text/html": "<pre>recommendations finished on 265000/289170 queries. users per second: 6980.35</pre>"
     },
     "metadata": {}
    },
    {
     "output_type": "display_data",
     "data": {
      "text/plain": "recommendations finished on 266000/289170 queries. users per second: 6975.07",
      "text/html": "<pre>recommendations finished on 266000/289170 queries. users per second: 6975.07</pre>"
     },
     "metadata": {}
    },
    {
     "output_type": "display_data",
     "data": {
      "text/plain": "recommendations finished on 267000/289170 queries. users per second: 6976.4",
      "text/html": "<pre>recommendations finished on 267000/289170 queries. users per second: 6976.4</pre>"
     },
     "metadata": {}
    },
    {
     "output_type": "display_data",
     "data": {
      "text/plain": "recommendations finished on 268000/289170 queries. users per second: 6976.36",
      "text/html": "<pre>recommendations finished on 268000/289170 queries. users per second: 6976.36</pre>"
     },
     "metadata": {}
    },
    {
     "output_type": "display_data",
     "data": {
      "text/plain": "recommendations finished on 269000/289170 queries. users per second: 6977.47",
      "text/html": "<pre>recommendations finished on 269000/289170 queries. users per second: 6977.47</pre>"
     },
     "metadata": {}
    },
    {
     "output_type": "display_data",
     "data": {
      "text/plain": "recommendations finished on 270000/289170 queries. users per second: 6979.15",
      "text/html": "<pre>recommendations finished on 270000/289170 queries. users per second: 6979.15</pre>"
     },
     "metadata": {}
    },
    {
     "output_type": "display_data",
     "data": {
      "text/plain": "recommendations finished on 271000/289170 queries. users per second: 6981.05",
      "text/html": "<pre>recommendations finished on 271000/289170 queries. users per second: 6981.05</pre>"
     },
     "metadata": {}
    },
    {
     "output_type": "display_data",
     "data": {
      "text/plain": "recommendations finished on 272000/289170 queries. users per second: 6981.55",
      "text/html": "<pre>recommendations finished on 272000/289170 queries. users per second: 6981.55</pre>"
     },
     "metadata": {}
    },
    {
     "output_type": "display_data",
     "data": {
      "text/plain": "recommendations finished on 273000/289170 queries. users per second: 6982.4",
      "text/html": "<pre>recommendations finished on 273000/289170 queries. users per second: 6982.4</pre>"
     },
     "metadata": {}
    },
    {
     "output_type": "display_data",
     "data": {
      "text/plain": "recommendations finished on 274000/289170 queries. users per second: 6983.48",
      "text/html": "<pre>recommendations finished on 274000/289170 queries. users per second: 6983.48</pre>"
     },
     "metadata": {}
    },
    {
     "output_type": "display_data",
     "data": {
      "text/plain": "recommendations finished on 275000/289170 queries. users per second: 6984.21",
      "text/html": "<pre>recommendations finished on 275000/289170 queries. users per second: 6984.21</pre>"
     },
     "metadata": {}
    },
    {
     "output_type": "display_data",
     "data": {
      "text/plain": "recommendations finished on 276000/289170 queries. users per second: 6985.86",
      "text/html": "<pre>recommendations finished on 276000/289170 queries. users per second: 6985.86</pre>"
     },
     "metadata": {}
    },
    {
     "output_type": "display_data",
     "data": {
      "text/plain": "recommendations finished on 277000/289170 queries. users per second: 6987.2",
      "text/html": "<pre>recommendations finished on 277000/289170 queries. users per second: 6987.2</pre>"
     },
     "metadata": {}
    },
    {
     "output_type": "display_data",
     "data": {
      "text/plain": "recommendations finished on 278000/289170 queries. users per second: 6988.37",
      "text/html": "<pre>recommendations finished on 278000/289170 queries. users per second: 6988.37</pre>"
     },
     "metadata": {}
    },
    {
     "output_type": "display_data",
     "data": {
      "text/plain": "recommendations finished on 279000/289170 queries. users per second: 6989.7",
      "text/html": "<pre>recommendations finished on 279000/289170 queries. users per second: 6989.7</pre>"
     },
     "metadata": {}
    },
    {
     "output_type": "display_data",
     "data": {
      "text/plain": "recommendations finished on 280000/289170 queries. users per second: 6991.2",
      "text/html": "<pre>recommendations finished on 280000/289170 queries. users per second: 6991.2</pre>"
     },
     "metadata": {}
    },
    {
     "output_type": "display_data",
     "data": {
      "text/plain": "recommendations finished on 281000/289170 queries. users per second: 6991.89",
      "text/html": "<pre>recommendations finished on 281000/289170 queries. users per second: 6991.89</pre>"
     },
     "metadata": {}
    },
    {
     "output_type": "display_data",
     "data": {
      "text/plain": "recommendations finished on 282000/289170 queries. users per second: 6993.34",
      "text/html": "<pre>recommendations finished on 282000/289170 queries. users per second: 6993.34</pre>"
     },
     "metadata": {}
    },
    {
     "output_type": "display_data",
     "data": {
      "text/plain": "recommendations finished on 283000/289170 queries. users per second: 6994.64",
      "text/html": "<pre>recommendations finished on 283000/289170 queries. users per second: 6994.64</pre>"
     },
     "metadata": {}
    },
    {
     "output_type": "display_data",
     "data": {
      "text/plain": "recommendations finished on 284000/289170 queries. users per second: 6995.95",
      "text/html": "<pre>recommendations finished on 284000/289170 queries. users per second: 6995.95</pre>"
     },
     "metadata": {}
    },
    {
     "output_type": "display_data",
     "data": {
      "text/plain": "recommendations finished on 285000/289170 queries. users per second: 6997.21",
      "text/html": "<pre>recommendations finished on 285000/289170 queries. users per second: 6997.21</pre>"
     },
     "metadata": {}
    },
    {
     "output_type": "display_data",
     "data": {
      "text/plain": "recommendations finished on 286000/289170 queries. users per second: 6998.34",
      "text/html": "<pre>recommendations finished on 286000/289170 queries. users per second: 6998.34</pre>"
     },
     "metadata": {}
    },
    {
     "output_type": "display_data",
     "data": {
      "text/plain": "recommendations finished on 287000/289170 queries. users per second: 6999.52",
      "text/html": "<pre>recommendations finished on 287000/289170 queries. users per second: 6999.52</pre>"
     },
     "metadata": {}
    },
    {
     "output_type": "display_data",
     "data": {
      "text/plain": "recommendations finished on 288000/289170 queries. users per second: 7000.76",
      "text/html": "<pre>recommendations finished on 288000/289170 queries. users per second: 7000.76</pre>"
     },
     "metadata": {}
    },
    {
     "output_type": "display_data",
     "data": {
      "text/plain": "recommendations finished on 289000/289170 queries. users per second: 7001.14",
      "text/html": "<pre>recommendations finished on 289000/289170 queries. users per second: 7001.14</pre>"
     },
     "metadata": {}
    }
   ],
   "source": [
    "recommended_kdf = model_kdf.recommend(tc_kdf_total[\"id_puiple\"].unique(), k=10, exclude_known=True)"
   ]
  },
  {
   "cell_type": "code",
   "execution_count": 44,
   "metadata": {},
   "outputs": [],
   "source": [
    "recommended_kdf_df = recommended_kdf.to_dataframe()"
   ]
  },
  {
   "source": [
    "## Sort - metro distance"
   ],
   "cell_type": "markdown",
   "metadata": {}
  },
  {
   "cell_type": "code",
   "execution_count": 91,
   "metadata": {},
   "outputs": [],
   "source": [
    "recommended_kdf_df['fav_metro'] = recommended_kdf_df['id_puiple'].map(fav_metro['metro'])"
   ]
  },
  {
   "cell_type": "code",
   "execution_count": 93,
   "metadata": {},
   "outputs": [],
   "source": [
    "recommended_kdf_df['metro']= recommended_kdf_df['merge_column'].map(kdf_mergerelation.drop_duplicates(subset=['merge_column']).set_index('merge_column')['metro'])"
   ]
  },
  {
   "cell_type": "code",
   "execution_count": 94,
   "metadata": {},
   "outputs": [],
   "source": [
    "metro_distance['concat_metro'] = metro_distance['metro_1'] + '_' + metro_distance['metro_2']"
   ]
  },
  {
   "cell_type": "code",
   "execution_count": 95,
   "metadata": {},
   "outputs": [],
   "source": [
    "recommended_kdf_df['concat_metro'] = recommended_kdf_df['fav_metro'] + '_' + recommended_kdf_df['metro'] "
   ]
  },
  {
   "cell_type": "code",
   "execution_count": 96,
   "metadata": {},
   "outputs": [],
   "source": [
    "recommended_kdf_df['euklid'] = recommended_kdf_df['concat_metro'].map(metro_distance.drop_duplicates(subset=['concat_metro']).set_index('concat_metro')['eculid'])"
   ]
  },
  {
   "cell_type": "code",
   "execution_count": 99,
   "metadata": {},
   "outputs": [
    {
     "output_type": "execute_result",
     "data": {
      "text/plain": [
       "array([ 0., nan])"
      ]
     },
     "metadata": {},
     "execution_count": 99
    }
   ],
   "source": [
    "recommended_kdf_df[recommended_kdf_df['fav_metro']==recommended_kdf_df['metro']]['euklid'].unique()"
   ]
  },
  {
   "cell_type": "code",
   "execution_count": 145,
   "metadata": {},
   "outputs": [],
   "source": [
    "recommended_kdf_df_sort = recommended_kdf_df_sort.sort_values(['id_puiple','euklid'], ascending=True)"
   ]
  },
  {
   "cell_type": "code",
   "execution_count": 147,
   "metadata": {},
   "outputs": [
    {
     "output_type": "execute_result",
     "data": {
      "text/plain": [
       "       id_puiple                                       merge_column     score  \\\n",
       "551533   1287665                            162_Ударные инструменты  0.352001   \n",
       "551535   1287665                            162_Академический вокал  0.245126   \n",
       "551532   1287665                                     48_Блок-флейта  0.360070   \n",
       "551534   1287665  10872_Московский городской творческий коллекти...  0.314051   \n",
       "551539   1287665                                     30_Архитектура  0.181357   \n",
       "551537   1287665  10856_Топотушки – подготовительная группа в де...  0.199580   \n",
       "551531   1287665  10907_ Студия любителей английского языка Линг...  0.482623   \n",
       "551530   1287665  10858_Вокальная студия Лирика (хор), платная о...  0.511436   \n",
       "551536   1287665                                           21_Форт8  0.239570   \n",
       "551538   1287665  10867_Студия изобразительного искусства  «Вдох...  0.188093   \n",
       "\n",
       "        rank   fav_metro          metro              concat_metro    euklid  \n",
       "551533     4  Сокольники     Сокольники     Сокольники_Сокольники  0.000000  \n",
       "551535     6  Сокольники     Сокольники     Сокольники_Сокольники  0.000000  \n",
       "551532     3  Сокольники   Бабушкинская   Сокольники_Бабушкинская  0.082832  \n",
       "551534     5  Сокольники   Текстильщики   Сокольники_Текстильщики  0.095596  \n",
       "551539    10  Сокольники    Баррикадная    Сокольники_Баррикадная  0.102684  \n",
       "551537     8  Сокольники      Алтуфьево      Сокольники_Алтуфьево  0.144129  \n",
       "551531     2  Сокольники  Алма-Атинская  Сокольники_Алма-Атинская  0.177848  \n",
       "551530     1  Сокольники            NaN                       NaN       NaN  \n",
       "551536     7  Сокольники            NaN                       NaN       NaN  \n",
       "551538     9  Сокольники            NaN                       NaN       NaN  "
      ],
      "text/html": "<div>\n<style scoped>\n    .dataframe tbody tr th:only-of-type {\n        vertical-align: middle;\n    }\n\n    .dataframe tbody tr th {\n        vertical-align: top;\n    }\n\n    .dataframe thead th {\n        text-align: right;\n    }\n</style>\n<table border=\"1\" class=\"dataframe\">\n  <thead>\n    <tr style=\"text-align: right;\">\n      <th></th>\n      <th>id_puiple</th>\n      <th>merge_column</th>\n      <th>score</th>\n      <th>rank</th>\n      <th>fav_metro</th>\n      <th>metro</th>\n      <th>concat_metro</th>\n      <th>euklid</th>\n    </tr>\n  </thead>\n  <tbody>\n    <tr>\n      <th>551533</th>\n      <td>1287665</td>\n      <td>162_Ударные инструменты</td>\n      <td>0.352001</td>\n      <td>4</td>\n      <td>Сокольники</td>\n      <td>Сокольники</td>\n      <td>Сокольники_Сокольники</td>\n      <td>0.000000</td>\n    </tr>\n    <tr>\n      <th>551535</th>\n      <td>1287665</td>\n      <td>162_Академический вокал</td>\n      <td>0.245126</td>\n      <td>6</td>\n      <td>Сокольники</td>\n      <td>Сокольники</td>\n      <td>Сокольники_Сокольники</td>\n      <td>0.000000</td>\n    </tr>\n    <tr>\n      <th>551532</th>\n      <td>1287665</td>\n      <td>48_Блок-флейта</td>\n      <td>0.360070</td>\n      <td>3</td>\n      <td>Сокольники</td>\n      <td>Бабушкинская</td>\n      <td>Сокольники_Бабушкинская</td>\n      <td>0.082832</td>\n    </tr>\n    <tr>\n      <th>551534</th>\n      <td>1287665</td>\n      <td>10872_Московский городской творческий коллекти...</td>\n      <td>0.314051</td>\n      <td>5</td>\n      <td>Сокольники</td>\n      <td>Текстильщики</td>\n      <td>Сокольники_Текстильщики</td>\n      <td>0.095596</td>\n    </tr>\n    <tr>\n      <th>551539</th>\n      <td>1287665</td>\n      <td>30_Архитектура</td>\n      <td>0.181357</td>\n      <td>10</td>\n      <td>Сокольники</td>\n      <td>Баррикадная</td>\n      <td>Сокольники_Баррикадная</td>\n      <td>0.102684</td>\n    </tr>\n    <tr>\n      <th>551537</th>\n      <td>1287665</td>\n      <td>10856_Топотушки – подготовительная группа в де...</td>\n      <td>0.199580</td>\n      <td>8</td>\n      <td>Сокольники</td>\n      <td>Алтуфьево</td>\n      <td>Сокольники_Алтуфьево</td>\n      <td>0.144129</td>\n    </tr>\n    <tr>\n      <th>551531</th>\n      <td>1287665</td>\n      <td>10907_ Студия любителей английского языка Линг...</td>\n      <td>0.482623</td>\n      <td>2</td>\n      <td>Сокольники</td>\n      <td>Алма-Атинская</td>\n      <td>Сокольники_Алма-Атинская</td>\n      <td>0.177848</td>\n    </tr>\n    <tr>\n      <th>551530</th>\n      <td>1287665</td>\n      <td>10858_Вокальная студия Лирика (хор), платная о...</td>\n      <td>0.511436</td>\n      <td>1</td>\n      <td>Сокольники</td>\n      <td>NaN</td>\n      <td>NaN</td>\n      <td>NaN</td>\n    </tr>\n    <tr>\n      <th>551536</th>\n      <td>1287665</td>\n      <td>21_Форт8</td>\n      <td>0.239570</td>\n      <td>7</td>\n      <td>Сокольники</td>\n      <td>NaN</td>\n      <td>NaN</td>\n      <td>NaN</td>\n    </tr>\n    <tr>\n      <th>551538</th>\n      <td>1287665</td>\n      <td>10867_Студия изобразительного искусства  «Вдох...</td>\n      <td>0.188093</td>\n      <td>9</td>\n      <td>Сокольники</td>\n      <td>NaN</td>\n      <td>NaN</td>\n      <td>NaN</td>\n    </tr>\n  </tbody>\n</table>\n</div>"
     },
     "metadata": {},
     "execution_count": 147
    }
   ],
   "source": [
    "recommended_kdf_df_sort[recommended_kdf_df_sort['id_puiple']=='1287665']"
   ]
  },
  {
   "source": [
    "# LDA по тегам книг"
   ],
   "cell_type": "markdown",
   "metadata": {}
  },
  {
   "cell_type": "code",
   "execution_count": 125,
   "metadata": {},
   "outputs": [
    {
     "output_type": "execute_result",
     "data": {
      "text/plain": [
       "array(['История в целом. Всемирная история', 'Вокальные произведения',\n",
       "       'Художественная литература', ...,\n",
       "       'СМИ. Журналистика в целом ; Художественно-документальная проза. Мемуары',\n",
       "       'История киноискусства ; Драматический театр',\n",
       "       'История и критика литературы России ; История и критика мировой литературы ; История и критика литературы зарубежных стран'],\n",
       "      dtype=object)"
      ]
     },
     "metadata": {},
     "execution_count": 125
    }
   ],
   "source": [
    "books_catalog_check['tags'].unique()"
   ]
  },
  {
   "source": [
    "books_catalog_check_new = books_catalog_check.dropna(subset=['tags'])"
   ],
   "cell_type": "code",
   "metadata": {},
   "execution_count": 126,
   "outputs": []
  },
  {
   "cell_type": "code",
   "execution_count": 128,
   "metadata": {},
   "outputs": [],
   "source": [
    "stop = stopwords.words('russian')\n",
    "books_catalog_check_new['new_tags'] = books_catalog_check_new['tags'].apply(lambda x: ' '.join([word for word in x.split() if word not in (stop)])) "
   ]
  },
  {
   "cell_type": "code",
   "execution_count": 129,
   "metadata": {},
   "outputs": [],
   "source": [
    "stop2 = ['литература','произведения']\n",
    "books_catalog_check_new['new_tags'] = books_catalog_check_new['new_tags'].apply(lambda x: ' '.join([word for word in x.lower().split() if word not in (stop2)])) "
   ]
  },
  {
   "cell_type": "code",
   "execution_count": 130,
   "metadata": {},
   "outputs": [],
   "source": [
    "books_catalog_check_new['new_tags'] = books_catalog_check_new['new_tags'].str.replace(r'(\\<(/?[^>]+)>)',' ').replace(r'[\\W_]+',' ')"
   ]
  },
  {
   "cell_type": "code",
   "execution_count": 131,
   "metadata": {},
   "outputs": [],
   "source": [
    "count_vectorizer = CountVectorizer(max_features=10000)\n",
    "books_tags = books_catalog_check_new['new_tags'].values\n",
    "document_term_matrix = count_vectorizer.fit_transform(books_tags)\n"
   ]
  },
  {
   "cell_type": "code",
   "execution_count": 132,
   "metadata": {},
   "outputs": [],
   "source": [
    "n_topics = 14\n",
    "lsa_model = TruncatedSVD(n_components=n_topics)\n",
    "lsa_topic_matrix = lsa_model.fit_transform(document_term_matrix)\n"
   ]
  },
  {
   "cell_type": "code",
   "execution_count": 134,
   "metadata": {},
   "outputs": [],
   "source": [
    "# Define helper functions\n",
    "def get_keys(topic_matrix):\n",
    "    keys = topic_matrix.argmax(axis=1).tolist()\n",
    "    return keys\n",
    "\n",
    "def keys_to_counts(keys):\n",
    "\n",
    "    count_pairs = Counter(keys).items()\n",
    "    categories = [pair[0] for pair in count_pairs]\n",
    "    counts = [pair[1] for pair in count_pairs]\n",
    "    return (categories, counts)"
   ]
  },
  {
   "cell_type": "code",
   "execution_count": 137,
   "metadata": {},
   "outputs": [],
   "source": [
    "lsa_keys = get_keys(lsa_topic_matrix)\n",
    "lsa_categories, lsa_counts = keys_to_counts(lsa_keys)"
   ]
  },
  {
   "cell_type": "code",
   "execution_count": 138,
   "metadata": {},
   "outputs": [],
   "source": [
    "# Define helper functions\n",
    "def get_top_n_words(n, keys, document_term_matrix, count_vectorizer):\n",
    "\n",
    "    top_word_indices = []\n",
    "    for topic in range(n_topics):\n",
    "        temp_vector_sum = 0\n",
    "        for i in range(len(keys)):\n",
    "            if keys[i] == topic:\n",
    "                temp_vector_sum += document_term_matrix[i]\n",
    "        temp_vector_sum = temp_vector_sum.toarray()\n",
    "        top_n_word_indices = np.flip(np.argsort(temp_vector_sum)[0][-n:],0)\n",
    "        top_word_indices.append(top_n_word_indices)   \n",
    "    top_words = []\n",
    "    for topic in top_word_indices:\n",
    "        topic_words = []\n",
    "        for index in topic:\n",
    "            temp_word_vector = np.zeros((1,document_term_matrix.shape[1]))\n",
    "            temp_word_vector[:,index] = 1\n",
    "            the_word = count_vectorizer.inverse_transform(temp_word_vector)[0][0]\n",
    "            topic_words.append(the_word)\n",
    "        top_words.append(\" \".join(topic_words))         \n",
    "    return top_words\n"
   ]
  },
  {
   "cell_type": "code",
   "execution_count": 139,
   "metadata": {},
   "outputs": [
    {
     "output_type": "stream",
     "name": "stdout",
     "text": [
      "Topic 1:  художественная детей юношества российская проза зарубежная фантастика детектив зарубежный поэзия\nTopic 2:  история россии критика литературы теория целом всемирная музыки стран зарубежных\nTopic 3:  детей юношества художественная зоология транспорт зарубежная российская проза культура рукоделие\nTopic 4:  право семейное гражданское финансовое торговое интеллектуальное юридические науки исполнительное судопроизводство\nTopic 5:  целом геология журналистика сми религия религиоведение терапия анастезиология реанимация интенсивная\nTopic 6:  экономика бизнес экономические стран регионов предприятия предпринимательство политика мировая мировые\nTopic 7:  живопись науки психология издания искусство универсального содержания социальная земле естественные\nTopic 8:  охрана искусства памятников собрания художественные музеи коллекции графика скульптура культуры\nTopic 9:  музыка языки мира яыкознание частное театр архитектура градостроительство драматический программирования\nTopic 10:  общие вопросы литературоведения других музыкальные жанров видов обычаи народоведение этнография\nTopic 11:  инструментальные вокальные педагогика искусство филология искусствознание другие образование образования общая\nTopic 12:  христианство медицина дело статистика управление социальное обеспечение менеджмент планирование аудит\nTopic 13:  язык английский немецкий русский диетотерапия питание лечебное питания диетология гигиена\nTopic 14:  страноведение путешествия путеводители краеведение справочные материалы дело кино художественно игровое\n"
     ]
    }
   ],
   "source": [
    "top_n_words_lsa = get_top_n_words(10, lsa_keys, document_term_matrix, count_vectorizer)\n",
    "\n",
    "for i in range(len(top_n_words_lsa)):\n",
    "    print(\"Topic {}: \".format(i+1), top_n_words_lsa[i])"
   ]
  },
  {
   "cell_type": "code",
   "execution_count": 153,
   "metadata": {},
   "outputs": [],
   "source": [
    "top_n_words_lsa_last = pd.DataFrame(top_n_words_lsa)"
   ]
  },
  {
   "cell_type": "code",
   "execution_count": 154,
   "metadata": {},
   "outputs": [],
   "source": [
    "top_n_words_lsa_last['topic'] = top_n_words_lsa_last.index"
   ]
  },
  {
   "cell_type": "code",
   "execution_count": 155,
   "metadata": {},
   "outputs": [
    {
     "output_type": "execute_result",
     "data": {
      "text/plain": [
       "                                                    0  topic\n",
       "0   художественная детей юношества российская проз...      0\n",
       "1   история россии критика литературы теория целом...      1\n",
       "2   детей юношества художественная зоология трансп...      2\n",
       "3   право семейное гражданское финансовое торговое...      3\n",
       "4   целом геология журналистика сми религия религи...      4\n",
       "5   экономика бизнес экономические стран регионов ...      5\n",
       "6   живопись науки психология издания искусство ун...      6\n",
       "7   охрана искусства памятников собрания художеств...      7\n",
       "8   музыка языки мира яыкознание частное театр арх...      8\n",
       "9   общие вопросы литературоведения других музыкал...      9\n",
       "10  инструментальные вокальные педагогика искусств...     10\n",
       "11  христианство медицина дело статистика управлен...     11\n",
       "12  язык английский немецкий русский диетотерапия ...     12\n",
       "13  страноведение путешествия путеводители краевед...     13"
      ],
      "text/html": "<div>\n<style scoped>\n    .dataframe tbody tr th:only-of-type {\n        vertical-align: middle;\n    }\n\n    .dataframe tbody tr th {\n        vertical-align: top;\n    }\n\n    .dataframe thead th {\n        text-align: right;\n    }\n</style>\n<table border=\"1\" class=\"dataframe\">\n  <thead>\n    <tr style=\"text-align: right;\">\n      <th></th>\n      <th>0</th>\n      <th>topic</th>\n    </tr>\n  </thead>\n  <tbody>\n    <tr>\n      <th>0</th>\n      <td>художественная детей юношества российская проз...</td>\n      <td>0</td>\n    </tr>\n    <tr>\n      <th>1</th>\n      <td>история россии критика литературы теория целом...</td>\n      <td>1</td>\n    </tr>\n    <tr>\n      <th>2</th>\n      <td>детей юношества художественная зоология трансп...</td>\n      <td>2</td>\n    </tr>\n    <tr>\n      <th>3</th>\n      <td>право семейное гражданское финансовое торговое...</td>\n      <td>3</td>\n    </tr>\n    <tr>\n      <th>4</th>\n      <td>целом геология журналистика сми религия религи...</td>\n      <td>4</td>\n    </tr>\n    <tr>\n      <th>5</th>\n      <td>экономика бизнес экономические стран регионов ...</td>\n      <td>5</td>\n    </tr>\n    <tr>\n      <th>6</th>\n      <td>живопись науки психология издания искусство ун...</td>\n      <td>6</td>\n    </tr>\n    <tr>\n      <th>7</th>\n      <td>охрана искусства памятников собрания художеств...</td>\n      <td>7</td>\n    </tr>\n    <tr>\n      <th>8</th>\n      <td>музыка языки мира яыкознание частное театр арх...</td>\n      <td>8</td>\n    </tr>\n    <tr>\n      <th>9</th>\n      <td>общие вопросы литературоведения других музыкал...</td>\n      <td>9</td>\n    </tr>\n    <tr>\n      <th>10</th>\n      <td>инструментальные вокальные педагогика искусств...</td>\n      <td>10</td>\n    </tr>\n    <tr>\n      <th>11</th>\n      <td>христианство медицина дело статистика управлен...</td>\n      <td>11</td>\n    </tr>\n    <tr>\n      <th>12</th>\n      <td>язык английский немецкий русский диетотерапия ...</td>\n      <td>12</td>\n    </tr>\n    <tr>\n      <th>13</th>\n      <td>страноведение путешествия путеводители краевед...</td>\n      <td>13</td>\n    </tr>\n  </tbody>\n</table>\n</div>"
     },
     "metadata": {},
     "execution_count": 155
    }
   ],
   "source": [
    "top_n_words_lsa_last"
   ]
  },
  {
   "cell_type": "code",
   "execution_count": 158,
   "metadata": {},
   "outputs": [],
   "source": [
    "books_catalog_check_new['num_topic'] = lsa_keys\n",
    "books_catalog_check_new['keywords'] = books_catalog_check_new['num_topic'].map(top_n_words_lsa_last.set_index('topic')[0])"
   ]
  },
  {
   "source": [
    "## LSA - связываем топики по книгам с мероприятиями"
   ],
   "cell_type": "markdown",
   "metadata": {}
  },
  {
   "cell_type": "code",
   "execution_count": null,
   "metadata": {},
   "outputs": [],
   "source": []
  },
  {
   "cell_type": "code",
   "execution_count": 161,
   "metadata": {},
   "outputs": [],
   "source": [
    "events['new_type_meropriyatia'] = events['type_meropriyatia'].apply(lambda x: ' '.join([word for word in x.split() if word not in (stop)])) "
   ]
  },
  {
   "source": [
    "## Word2Vec для книги-мероприятия"
   ],
   "cell_type": "markdown",
   "metadata": {}
  },
  {
   "cell_type": "code",
   "execution_count": 162,
   "metadata": {},
   "outputs": [],
   "source": [
    "import gensim.downloader as api\n",
    "\n",
    "pre_train_model = api.load('word2vec-ruscorpora-300')"
   ]
  },
  {
   "cell_type": "code",
   "execution_count": 164,
   "metadata": {},
   "outputs": [
    {
     "output_type": "execute_result",
     "data": {
      "text/plain": [
       "184973"
      ]
     },
     "metadata": {},
     "execution_count": 164
    }
   ],
   "source": [
    "len(pre_train_model.wv.vocab)"
   ]
  },
  {
   "cell_type": "code",
   "execution_count": 165,
   "metadata": {},
   "outputs": [],
   "source": [
    "items = pre_train_model.wv.vocab.items()\n",
    "for key, value in list(items):\n",
    "    index = str.find(key, \"_\")\n",
    "    key_new = key[:index]\n",
    "    pre_train_model.wv.vocab[key_new] = value\n",
    "    del pre_train_model.wv.vocab[key]"
   ]
  },
  {
   "cell_type": "code",
   "execution_count": 173,
   "metadata": {},
   "outputs": [
    {
     "output_type": "execute_result",
     "data": {
      "text/plain": [
       "[('культурный_ADJ', 0.6627464294433594),\n",
       " ('сверхкультурный_ADJ', 0.5889217853546143),\n",
       " ('цивилизация_NOUN', 0.5629868507385254),\n",
       " ('антикультура_NOUN', 0.5456435084342957),\n",
       " ('аденокарцинома::надпочечник_NOUN', 0.540786623954773),\n",
       " ('искусство_NOUN', 0.5383590459823608),\n",
       " ('тритикале_NOUN', 0.5383437871932983),\n",
       " ('mrc_NOUN', 0.535457968711853),\n",
       " ('диплоидный::фибробласт_NOUN', 0.5242698192596436),\n",
       " ('этнокультура_NOUN', 0.5211303234100342)]"
      ]
     },
     "metadata": {},
     "execution_count": 173
    }
   ],
   "source": [
    "pre_train_model.wv.most_similar(positive=[\"культура\"])"
   ]
  },
  {
   "cell_type": "code",
   "execution_count": 204,
   "metadata": {},
   "outputs": [],
   "source": [
    "keys = pre_train_model.wv.vocab.keys()\n",
    "for j in events['new_type_meropriyatia'].str.split(',').str[0].str.split(' ').str[0]:\n",
    "    if(j in keys):\n",
    "        rec_events = pre_train_model.wv.most_similar(positive=[о])"
   ]
  },
  {
   "cell_type": "code",
   "execution_count": 166,
   "metadata": {},
   "outputs": [
    {
     "output_type": "execute_result",
     "data": {
      "text/plain": [
       "nsim.models.keyedvectors.Vocab at 0x1a65154bd0>,\n",
       " 'кабинет': <gensim.models.keyedvectors.Vocab at 0x1a65154c10>,\n",
       " 'возможный': <gensim.models.keyedvectors.Vocab at 0x1a65154c50>,\n",
       " 'немецкий': <gensim.models.keyedvectors.Vocab at 0x1a65154c90>,\n",
       " 'фронт': <gensim.models.keyedvectors.Vocab at 0x1a65154cd0>,\n",
       " 'удар': <gensim.models.keyedvectors.Vocab at 0x1a65154d10>,\n",
       " 'политика': <gensim.models.keyedvectors.Vocab at 0x1a65154d50>,\n",
       " 'переставать': <gensim.models.keyedvectors.Vocab at 0x1a65154d90>,\n",
       " 'внешний': <gensim.models.keyedvectors.Vocab at 0x1a65154dd0>,\n",
       " 'ситуация': <gensim.models.keyedvectors.Vocab at 0x1a65154e10>,\n",
       " 'номер': <gensim.models.keyedvectors.Vocab at 0x1a65154e50>,\n",
       " 'выбирать': <gensim.models.keyedvectors.Vocab at 0x1a65154e90>,\n",
       " 'либо': <gensim.models.keyedvectors.Vocab at 0x1a65154ed0>,\n",
       " 'тема': <gensim.models.keyedvectors.Vocab at 0x1a65154f10>,\n",
       " 'граф': <gensim.models.keyedvectors.Vocab at 0x1a65154f50>,\n",
       " 'легкий': <gensim.models.keyedvectors.Vocab at 0x1a65154f90>,\n",
       " 'петь': <gensim.models.keyedvectors.Vocab at 0x1a65154fd0>,\n",
       " 'божий': <gensim.models.keyedvectors.Vocab at 0x1a6a1f08d0>,\n",
       " 'музыка': <gensim.models.keyedvectors.Vocab at 0x1a65175090>,\n",
       " 'откуда': <gensim.models.keyedvectors.Vocab at 0x1a702b3910>,\n",
       " 'обычный': <gensim.models.keyedvectors.Vocab at 0x1a65175110>,\n",
       " 'услышать': <gensim.models.keyedvectors.Vocab at 0x1a65175150>,\n",
       " 'исторический': <gensim.models.keyedvectors.Vocab at 0x1a65175190>,\n",
       " 'директор': <gensim.models.keyedvectors.Vocab at 0x1a651751d0>,\n",
       " 'европа': <gensim.models.keyedvectors.Vocab at 0x1a65175210>,\n",
       " 'тонкий': <gensim.models.keyedvectors.Vocab at 0x1a65175250>,\n",
       " 'пользоваться': <gensim.models.keyedvectors.Vocab at 0x1a65175290>,\n",
       " 'бросаться': <gensim.models.keyedvectors.Vocab at 0x1a651752d0>,\n",
       " 'корабль': <gensim.models.keyedvectors.Vocab at 0x1a65175350>,\n",
       " 'холодный': <gensim.models.keyedvectors.Vocab at 0x1a65175390>,\n",
       " 'надеяться': <gensim.models.keyedvectors.Vocab at 0x1a651753d0>,\n",
       " 'детский': <gensim.models.keyedvectors.Vocab at 0x1a65175410>,\n",
       " 'знание': <gensim.models.keyedvectors.Vocab at 0x1a65175450>,\n",
       " 'зеленый': <gensim.models.keyedvectors.Vocab at 0x1a65175490>,\n",
       " 'содержание': <gensim.models.keyedvectors.Vocab at 0x1a651754d0>,\n",
       " 'бедный': <gensim.models.keyedvectors.Vocab at 0x1a662af890>,\n",
       " 'дядя': <gensim.models.keyedvectors.Vocab at 0x1a65175550>,\n",
       " 'наверное': <gensim.models.keyedvectors.Vocab at 0x1a65175590>,\n",
       " 'наиболее': <gensim.models.keyedvectors.Vocab at 0x1a651755d0>,\n",
       " 'сие': <gensim.models.keyedvectors.Vocab at 0x1a65175610>,\n",
       " 'социальный': <gensim.models.keyedvectors.Vocab at 0x1a65175650>,\n",
       " 'размер': <gensim.models.keyedvectors.Vocab at 0x1a65175690>,\n",
       " 'мелкий': <gensim.models.keyedvectors.Vocab at 0x1a651756d0>,\n",
       " 'прощать': <gensim.models.keyedvectors.Vocab at 0x1a65175710>,\n",
       " 'причем': <gensim.models.keyedvectors.Vocab at 0x1a65175750>,\n",
       " 'прошлый': <gensim.models.keyedvectors.Vocab at 0x1a65175790>,\n",
       " 'мировой': <gensim.models.keyedvectors.Vocab at 0x1a655d7ad0>,\n",
       " 'лист': <gensim.models.keyedvectors.Vocab at 0x1a65175810>,\n",
       " 'документ': <gensim.models.keyedvectors.Vocab at 0x1a65175850>,\n",
       " 'звать': <gensim.models.keyedvectors.Vocab at 0x1a65175890>,\n",
       " 'площадь': <gensim.models.keyedvectors.Vocab at 0x1a651758d0>,\n",
       " 'бить': <gensim.models.keyedvectors.Vocab at 0x1a72677c10>,\n",
       " 'вероятно': <gensim.models.keyedvectors.Vocab at 0x1a65175950>,\n",
       " 'командир': <gensim.models.keyedvectors.Vocab at 0x1a65175990>,\n",
       " 'смеяться': <gensim.models.keyedvectors.Vocab at 0x1a651759d0>,\n",
       " 'понятие': <gensim.models.keyedvectors.Vocab at 0x1a65175a10>,\n",
       " 'приказывать': <gensim.models.keyedvectors.Vocab at 0x1a65175a50>,\n",
       " 'городской': <gensim.models.keyedvectors.Vocab at 0x1a6684da50>,\n",
       " 'крестьянин': <gensim.models.keyedvectors.Vocab at 0x1a65175ad0>,\n",
       " 'существо': <gensim.models.keyedvectors.Vocab at 0x1a65175b10>,\n",
       " 'пустой': <gensim.models.keyedvectors.Vocab at 0x1a65175b50>,\n",
       " 'шесть': <gensim.models.keyedvectors.Vocab at 0x1a65175b90>,\n",
       " 'высоко': <gensim.models.keyedvectors.Vocab at 0x1a65175bd0>,\n",
       " 'счастливый': <gensim.models.keyedvectors.Vocab at 0x1a65175c10>,\n",
       " 'короткий': <gensim.models.keyedvectors.Vocab at 0x1a65175c50>,\n",
       " 'принцип': <gensim.models.keyedvectors.Vocab at 0x1a65175c90>,\n",
       " 'железный': <gensim.models.keyedvectors.Vocab at 0x1a65175cd0>,\n",
       " 'обед': <gensim.models.keyedvectors.Vocab at 0x1a65175d10>,\n",
       " 'утверждать': <gensim.models.keyedvectors.Vocab at 0x1a65175d50>,\n",
       " 'будущее': <gensim.models.keyedvectors.Vocab at 0x1a65175d90>,\n",
       " 'звук': <gensim.models.keyedvectors.Vocab at 0x1a65175dd0>,\n",
       " 'возможно': <gensim.models.keyedvectors.Vocab at 0x1a65175e10>,\n",
       " 'название': <gensim.models.keyedvectors.Vocab at 0x1a65175e50>,\n",
       " 'ставить': <gensim.models.keyedvectors.Vocab at 0x1a65175e90>,\n",
       " 'зуб': <gensim.models.keyedvectors.Vocab at 0x1a65175ed0>,\n",
       " 'павел': <gensim.models.keyedvectors.Vocab at 0x1a65175f10>,\n",
       " 'представление': <gensim.models.keyedvectors.Vocab at 0x1a65175f50>,\n",
       " 'экономический': <gensim.models.keyedvectors.Vocab at 0x1a65175f90>,\n",
       " 'удовольствие': <gensim.models.keyedvectors.Vocab at 0x1a65175fd0>,\n",
       " 'потерять': <gensim.models.keyedvectors.Vocab at 0x1a6514e050>,\n",
       " 'создание': <gensim.models.keyedvectors.Vocab at 0x1a6514e090>,\n",
       " 'национальный': <gensim.models.keyedvectors.Vocab at 0x1a6514e0d0>,\n",
       " 'данные': <gensim.models.keyedvectors.Vocab at 0x1a6514e110>,\n",
       " 'цвет': <gensim.models.keyedvectors.Vocab at 0x1a6514e150>,\n",
       " 'гораздо': <gensim.models.keyedvectors.Vocab at 0x1a6514e190>,\n",
       " 'медленно': <gensim.models.keyedvectors.Vocab at 0x1a6514e1d0>,\n",
       " 'учитель': <gensim.models.keyedvectors.Vocab at 0x1a6514e210>,\n",
       " 'метод': <gensim.models.keyedvectors.Vocab at 0x1a6514e250>,\n",
       " 'станция': <gensim.models.keyedvectors.Vocab at 0x1a6514e290>,\n",
       " 'капитан': <gensim.models.keyedvectors.Vocab at 0x1a6514e2d0>,\n",
       " 'богатый': <gensim.models.keyedvectors.Vocab at 0x1a65f4a210>,\n",
       " 'необходимо': <gensim.models.keyedvectors.Vocab at 0x1a6514e350>,\n",
       " 'требование': <gensim.models.keyedvectors.Vocab at 0x1a6514e390>,\n",
       " 'сквозь': <gensim.models.keyedvectors.Vocab at 0x1a6514e3d0>,\n",
       " 'родитель': <gensim.models.keyedvectors.Vocab at 0x1a6514e410>,\n",
       " 'ребята': <gensim.models.keyedvectors.Vocab at 0x1a6514e450>,\n",
       " 'вскоре': <gensim.models.keyedvectors.Vocab at 0x1a6514e490>,\n",
       " 'левый': <gensim.models.keyedvectors.Vocab at 0x1a66332a50>,\n",
       " 'древний': <gensim.models.keyedvectors.Vocab at 0x1a6514e510>,\n",
       " 'способный': <gensim.models.keyedvectors.Vocab at 0x1a6514e550>,\n",
       " 'носить': <gensim.models.keyedvectors.Vocab at 0x1a6514e590>,\n",
       " 'миллион': <gensim.models.keyedvectors.Vocab at 0x1a64b2f090>,\n",
       " 'веселый': <gensim.models.keyedvectors.Vocab at 0x1a6514e610>,\n",
       " 'духовный': <gensim.models.keyedvectors.Vocab at 0x1a6514e650>,\n",
       " 'низкий': <gensim.models.keyedvectors.Vocab at 0x1a6514e690>,\n",
       " 'серый': <gensim.models.keyedvectors.Vocab at 0x1a6514e6d0>,\n",
       " 'прямой': <gensim.models.keyedvectors.Vocab at 0x1a6514e710>,\n",
       " 'родной': <gensim.models.keyedvectors.Vocab at 0x1a6514e750>,\n",
       " 'выполнять': <gensim.models.keyedvectors.Vocab at 0x1a6514e790>,\n",
       " 'спокойно': <gensim.models.keyedvectors.Vocab at 0x1a6514e7d0>,\n",
       " 'рассматривать': <gensim.models.keyedvectors.Vocab at 0x1a6514e810>,\n",
       " 'наступать': <gensim.models.keyedvectors.Vocab at 0x1a6514e850>,\n",
       " 'команда': <gensim.models.keyedvectors.Vocab at 0x1a6514e890>,\n",
       " 'глубина': <gensim.models.keyedvectors.Vocab at 0x1a6514e8d0>,\n",
       " 'американский': <gensim.models.keyedvectors.Vocab at 0x1a6514e910>,\n",
       " 'недавно': <gensim.models.keyedvectors.Vocab at 0x1a6514e950>,\n",
       " 'единый': <gensim.models.keyedvectors.Vocab at 0x1a6514e990>,\n",
       " 'многие': <gensim.models.keyedvectors.Vocab at 0x1a64908190>,\n",
       " 'хозяйство': <gensim.models.keyedvectors.Vocab at 0x1a6514ea10>,\n",
       " 'определенный': <gensim.models.keyedvectors.Vocab at 0x1a6514ea50>,\n",
       " 'исполнять': <gensim.models.keyedvectors.Vocab at 0x1a6514ea90>,\n",
       " 'вновь': <gensim.models.keyedvectors.Vocab at 0x1a6514ead0>,\n",
       " 'остров': <gensim.models.keyedvectors.Vocab at 0x1a6514eb10>,\n",
       " 'ссср': <gensim.models.keyedvectors.Vocab at 0x1a6514eb50>,\n",
       " 'цветок': <gensim.models.keyedvectors.Vocab at 0x1a6514eb90>,\n",
       " 'гражданин': <gensim.models.keyedvectors.Vocab at 0x1a6514ebd0>,\n",
       " 'информация': <gensim.models.keyedvectors.Vocab at 0x1a6514ec10>,\n",
       " 'выход': <gensim.models.keyedvectors.Vocab at 0x1a6514ec50>,\n",
       " 'знаменитый': <gensim.models.keyedvectors.Vocab at 0x1a6514ec90>,\n",
       " 'зима': <gensim.models.keyedvectors.Vocab at 0x1a6514ecd0>,\n",
       " 'выпивать': <gensim.models.keyedvectors.Vocab at 0x1a6514ed10>,\n",
       " 'никак': <gensim.models.keyedvectors.Vocab at 0x1a65cd0650>,\n",
       " 'обнаруживать': <gensim.models.keyedvectors.Vocab at 0x1a6514ed90>,\n",
       " 'улыбка': <gensim.models.keyedvectors.Vocab at 0x1a6514edd0>,\n",
       " 'плакать': <gensim.models.keyedvectors.Vocab at 0x1a6514ee10>,\n",
       " 'решаться': <gensim.models.keyedvectors.Vocab at 0x1a6514ee50>,\n",
       " 'ах': <gensim.models.keyedvectors.Vocab at 0x1a6514ee90>,\n",
       " 'профессор': <gensim.models.keyedvectors.Vocab at 0x1a6514eed0>,\n",
       " 'папа': <gensim.models.keyedvectors.Vocab at 0x1a6514ef10>,\n",
       " 'назначать': <gensim.models.keyedvectors.Vocab at 0x1a6514ef50>,\n",
       " 'изменение': <gensim.models.keyedvectors.Vocab at 0x1a6514ef90>,\n",
       " 'взглядывать': <gensim.models.keyedvectors.Vocab at 0x1a6514efd0>,\n",
       " 'приглашать': <gensim.models.keyedvectors.Vocab at 0x1a65156050>,\n",
       " 'впервые': <gensim.models.keyedvectors.Vocab at 0x1a65156090>,\n",
       " 'зрение': <gensim.models.keyedvectors.Vocab at 0x1a651560d0>,\n",
       " 'победа': <gensim.models.keyedvectors.Vocab at 0x1a65156110>,\n",
       " 'председатель': <gensim.models.keyedvectors.Vocab at 0x1a65156150>,\n",
       " 'продавать': <gensim.models.keyedvectors.Vocab at 0x1a65156190>,\n",
       " 'называться': <gensim.models.keyedvectors.Vocab at 0x1a651561d0>,\n",
       " 'ради': <gensim.models.keyedvectors.Vocab at 0x1a65156210>,\n",
       " 'колено': <gensim.models.keyedvectors.Vocab at 0x1a65156250>,\n",
       " 'расти': <gensim.models.keyedvectors.Vocab at 0x1a65156290>,\n",
       " 'элемент': <gensim.models.keyedvectors.Vocab at 0x1a651562d0>,\n",
       " 'честь': <gensim.models.keyedvectors.Vocab at 0x1a70047110>,\n",
       " 'доказывать': <gensim.models.keyedvectors.Vocab at 0x1a65156350>,\n",
       " 'множество': <gensim.models.keyedvectors.Vocab at 0x1a65156390>,\n",
       " 'почувствовать': <gensim.models.keyedvectors.Vocab at 0x1a651563d0>,\n",
       " 'пространство': <gensim.models.keyedvectors.Vocab at 0x1a65156410>,\n",
       " 'противник': <gensim.models.keyedvectors.Vocab at 0x1a65156450>,\n",
       " 'кончаться': <gensim.models.keyedvectors.Vocab at 0x1a65156490>,\n",
       " 'король': <gensim.models.keyedvectors.Vocab at 0x1a651564d0>,\n",
       " 'совершать': <gensim.models.keyedvectors.Vocab at 0x1a65156510>,\n",
       " 'необходимость': <gensim.models.keyedvectors.Vocab at 0x1a65156550>,\n",
       " 'английский': <gensim.models.keyedvectors.Vocab at 0x1a65156590>,\n",
       " 'михаил': <gensim.models.keyedvectors.Vocab at 0x1a651565d0>,\n",
       " 'зато': <gensim.models.keyedvectors.Vocab at 0x1a65156610>,\n",
       " 'ложиться': <gensim.models.keyedvectors.Vocab at 0x1a65156650>,\n",
       " 'нравиться': <gensim.models.keyedvectors.Vocab at 0x1a65156690>,\n",
       " 'польза': <gensim.models.keyedvectors.Vocab at 0x1a651566d0>,\n",
       " 'обычно': <gensim.models.keyedvectors.Vocab at 0x1a65156710>,\n",
       " 'значительный': <gensim.models.keyedvectors.Vocab at 0x1a65156750>,\n",
       " 'тотчас': <gensim.models.keyedvectors.Vocab at 0x1a65156790>,\n",
       " 'комитет': <gensim.models.keyedvectors.Vocab at 0x1a651567d0>,\n",
       " 'сложный': <gensim.models.keyedvectors.Vocab at 0x1a65156810>,\n",
       " 'предложение': <gensim.models.keyedvectors.Vocab at 0x1a65156850>,\n",
       " 'анна': <gensim.models.keyedvectors.Vocab at 0x1a65156890>,\n",
       " 'карман': <gensim.models.keyedvectors.Vocab at 0x1a651568d0>,\n",
       " 'алексей': <gensim.models.keyedvectors.Vocab at 0x1a65156910>,\n",
       " 'особенность': <gensim.models.keyedvectors.Vocab at 0x1a65156950>,\n",
       " 'сохранять': <gensim.models.keyedvectors.Vocab at 0x1a65156990>,\n",
       " 'слабый': <gensim.models.keyedvectors.Vocab at 0x1a651569d0>,\n",
       " 'сто': <gensim.models.keyedvectors.Vocab at 0x1a65156a10>,\n",
       " 'приниматься': <gensim.models.keyedvectors.Vocab at 0x1a65156a50>,\n",
       " 'пара': <gensim.models.keyedvectors.Vocab at 0x1a65156a90>,\n",
       " 'здание': <gensim.models.keyedvectors.Vocab at 0x1a65156ad0>,\n",
       " 'дама': <gensim.models.keyedvectors.Vocab at 0x1a65156b10>,\n",
       " 'упасть': <gensim.models.keyedvectors.Vocab at 0x1a65156b50>,\n",
       " 'читатель': <gensim.models.keyedvectors.Vocab at 0x1a65156b90>,\n",
       " 'кстати': <gensim.models.keyedvectors.Vocab at 0x1a65156bd0>,\n",
       " 'среда': <gensim.models.keyedvectors.Vocab at 0x1a65156c10>,\n",
       " 'звезда': <gensim.models.keyedvectors.Vocab at 0x1a65156c50>,\n",
       " 'спасать': <gensim.models.keyedvectors.Vocab at 0x1a65156c90>,\n",
       " 'студент': <gensim.models.keyedvectors.Vocab at 0x1a65156cd0>,\n",
       " 'василий': <gensim.models.keyedvectors.Vocab at 0x1a65156d10>,\n",
       " 'участок': <gensim.models.keyedvectors.Vocab at 0x1a65156d50>,\n",
       " 'доставать': <gensim.models.keyedvectors.Vocab at 0x1a65156d90>,\n",
       " 'оружие': <gensim.models.keyedvectors.Vocab at 0x1a65156dd0>,\n",
       " 'телефон': <gensim.models.keyedvectors.Vocab at 0x1a65156e10>,\n",
       " 'вспоминать': <gensim.models.keyedvectors.Vocab at 0x1a65156e50>,\n",
       " 'личность': <gensim.models.keyedvectors.Vocab at 0x1a65156e90>,\n",
       " 'умный': <gensim.models.keyedvectors.Vocab at 0x1a65156ed0>,\n",
       " 'черта': <gensim.models.keyedvectors.Vocab at 0x1a65156f10>,\n",
       " 'прийти': <gensim.models.keyedvectors.Vocab at 0x1a65156f50>,\n",
       " 'тихий': <gensim.models.keyedvectors.Vocab at 0x1a65156f90>,\n",
       " 'волна': <gensim.models.keyedvectors.Vocab at 0x1a65156fd0>,\n",
       " 'дальнейший': <gensim.models.keyedvectors.Vocab at 0x1a6514b050>,\n",
       " 'поскольку': <gensim.models.keyedvectors.Vocab at 0x1a6514b090>,\n",
       " 'отправлять': <gensim.models.keyedvectors.Vocab at 0x1a6514b0d0>,\n",
       " 'долгий': <gensim.models.keyedvectors.Vocab at 0x1a6514b110>,\n",
       " 'учиться': <gensim.models.keyedvectors.Vocab at 0x1a6514b150>,\n",
       " 'постоянно': <gensim.models.keyedvectors.Vocab at 0x1a6514b190>,\n",
       " 'допускать': <gensim.models.keyedvectors.Vocab at 0x1a6514b1d0>,\n",
       " 'ясный': <gensim.models.keyedvectors.Vocab at 0x1a6514b210>,\n",
       " 'позиция': <gensim.models.keyedvectors.Vocab at 0x1a6514b250>,\n",
       " 'нести': <gensim.models.keyedvectors.Vocab at 0x1a6514b290>,\n",
       " 'ворота': <gensim.models.keyedvectors.Vocab at 0x1a6514b2d0>,\n",
       " 'предполагать': <gensim.models.keyedvectors.Vocab at 0x1a6514b310>,\n",
       " 'удивляться': <gensim.models.keyedvectors.Vocab at 0x1a6514b390>,\n",
       " 'выражать': <gensim.models.keyedvectors.Vocab at 0x1a6514b3d0>,\n",
       " 'очевидно': <gensim.models.keyedvectors.Vocab at 0x1a6514b410>,\n",
       " 'боевой': <gensim.models.keyedvectors.Vocab at 0x1a6514b450>,\n",
       " 'сталин': <gensim.models.keyedvectors.Vocab at 0x1a6514b490>,\n",
       " 'отсутствие': <gensim.models.keyedvectors.Vocab at 0x1a6514b4d0>,\n",
       " 'верный': <gensim.models.keyedvectors.Vocab at 0x1a6514b510>,\n",
       " 'праздник': <gensim.models.keyedvectors.Vocab at 0x1a6514b550>,\n",
       " 'фигура': <gensim.models.keyedvectors.Vocab at 0x1a6514b590>,\n",
       " 'иметься': <gensim.models.keyedvectors.Vocab at 0x1a6514b5d0>,\n",
       " 'парень': <gensim.models.keyedvectors.Vocab at 0x1a6514b610>,\n",
       " 'ужас': <gensim.models.keyedvectors.Vocab at 0x1a6514b650>,\n",
       " 'специальный': <gensim.models.keyedvectors.Vocab at 0x1a6514b690>,\n",
       " 'фильм': <gensim.models.keyedvectors.Vocab at 0x1a6514b6d0>,\n",
       " 'самолет': <gensim.models.keyedvectors.Vocab at 0x1a6514b710>,\n",
       " 'поддерживать': <gensim.models.keyedvectors.Vocab at 0x1a6514b750>,\n",
       " 'предел': <gensim.models.keyedvectors.Vocab at 0x1a6514b790>,\n",
       " 'обеспечивать': <gensim.models.keyedvectors.Vocab at 0x1a6514b7d0>,\n",
       " 'десяток': <gensim.models.keyedvectors.Vocab at 0x1a6514b810>,\n",
       " 'птица': <gensim.models.keyedvectors.Vocab at 0x1a6514b850>,\n",
       " 'вино': <gensim.models.keyedvectors.Vocab at 0x1a6514b890>,\n",
       " 'баба': <gensim.models.keyedvectors.Vocab at 0x1a6514b8d0>,\n",
       " 'произведение': <gensim.models.keyedvectors.Vocab at 0x1a6514b910>,\n",
       " 'комиссия': <gensim.models.keyedvectors.Vocab at 0x1a6514b950>,\n",
       " 'житель': <gensim.models.keyedvectors.Vocab at 0x1a6514b990>,\n",
       " 'где-то': <gensim.models.keyedvectors.Vocab at 0x1a6514b9d0>,\n",
       " 'попросить': <gensim.models.keyedvectors.Vocab at 0x1a6514ba10>,\n",
       " 'будущий': <gensim.models.keyedvectors.Vocab at 0x1a6514ba50>,\n",
       " 'нынешний': <gensim.models.keyedvectors.Vocab at 0x1a6514ba90>,\n",
       " 'магазин': <gensim.models.keyedvectors.Vocab at 0x1a6514bad0>,\n",
       " 'испытывать': <gensim.models.keyedvectors.Vocab at 0x1a6514bb10>,\n",
       " 'вздыхать': <gensim.models.keyedvectors.Vocab at 0x1a6514bb50>,\n",
       " 'сходить': <gensim.models.keyedvectors.Vocab at 0x1a6514bb90>,\n",
       " 'теория': <gensim.models.keyedvectors.Vocab at 0x1a6514bbd0>,\n",
       " 'пускать': <gensim.models.keyedvectors.Vocab at 0x1a6514bc10>,\n",
       " 'погибать': <gensim.models.keyedvectors.Vocab at 0x1a6514bc50>,\n",
       " 'окружать': <gensim.models.keyedvectors.Vocab at 0x1a6514bc90>,\n",
       " 'обещать': <gensim.models.keyedvectors.Vocab at 0x1a6514bcd0>,\n",
       " 'высота': <gensim.models.keyedvectors.Vocab at 0x1a6514bd50>,\n",
       " 'морской': <gensim.models.keyedvectors.Vocab at 0x1a6514bd90>,\n",
       " 'париж': <gensim.models.keyedvectors.Vocab at 0x1a6514bdd0>,\n",
       " 'прием': <gensim.models.keyedvectors.Vocab at 0x1a6514be10>,\n",
       " 'описывать': <gensim.models.keyedvectors.Vocab at 0x1a6514be50>,\n",
       " 'тень': <gensim.models.keyedvectors.Vocab at 0x1a6514be90>,\n",
       " 'видимо': <gensim.models.keyedvectors.Vocab at 0x1a6514bed0>,\n",
       " 'источник': <gensim.models.keyedvectors.Vocab at 0x1a6514bf10>,\n",
       " 'черт': <gensim.models.keyedvectors.Vocab at 0x1a6514bf50>,\n",
       " 'выпускать': <gensim.models.keyedvectors.Vocab at 0x1a6514bf90>,\n",
       " 'объект': <gensim.models.keyedvectors.Vocab at 0x1a6514bfd0>,\n",
       " 'сделаться': <gensim.models.keyedvectors.Vocab at 0x1a6515e050>,\n",
       " 'банк': <gensim.models.keyedvectors.Vocab at 0x1a6515e090>,\n",
       " 'возраст': <gensim.models.keyedvectors.Vocab at 0x1a6515e0d0>,\n",
       " 'долг': <gensim.models.keyedvectors.Vocab at 0x1a6515e110>,\n",
       " 'поезд': <gensim.models.keyedvectors.Vocab at 0x1a6515e150>,\n",
       " 'сведение': <gensim.models.keyedvectors.Vocab at 0x1a6515e190>,\n",
       " 'западный': <gensim.models.keyedvectors.Vocab at 0x1a6515e1d0>,\n",
       " 'кой': <gensim.models.keyedvectors.Vocab at 0x1a6515e210>,\n",
       " 'животное': <gensim.models.keyedvectors.Vocab at 0x1a6515e250>,\n",
       " 'дума': <gensim.models.keyedvectors.Vocab at 0x1a6515e290>,\n",
       " 'выдавать': <gensim.models.keyedvectors.Vocab at 0x1a6515e2d0>,\n",
       " 'открытый': <gensim.models.keyedvectors.Vocab at 0x1a6515e310>,\n",
       " 'считаться': <gensim.models.keyedvectors.Vocab at 0x1a6515e350>,\n",
       " 'международный': <gensim.models.keyedvectors.Vocab at 0x1a6515e390>,\n",
       " 'горячий': <gensim.models.keyedvectors.Vocab at 0x1a6515e3d0>,\n",
       " 'направлять': <gensim.models.keyedvectors.Vocab at 0x1a6515e410>,\n",
       " 'главное': <gensim.models.keyedvectors.Vocab at 0x1a6502a350>,\n",
       " 'красота': <gensim.models.keyedvectors.Vocab at 0x1a6515e490>,\n",
       " 'благодаря': <gensim.models.keyedvectors.Vocab at 0x1a6515e4d0>,\n",
       " 'существование': <gensim.models.keyedvectors.Vocab at 0x1a6515e510>,\n",
       " 'привозить': <gensim.models.keyedvectors.Vocab at 0x1a6515e550>,\n",
       " 'далее': <gensim.models.keyedvectors.Vocab at 0x1a6515e590>,\n",
       " 'автомобиль': <gensim.models.keyedvectors.Vocab at 0x1a6515e5d0>,\n",
       " 'светлый': <gensim.models.keyedvectors.Vocab at 0x1a6515e610>,\n",
       " 'пожалуй': <gensim.models.keyedvectors.Vocab at 0x1a6515e650>,\n",
       " 'карта': <gensim.models.keyedvectors.Vocab at 0x1a6515e690>,\n",
       " 'вступать': <gensim.models.keyedvectors.Vocab at 0x1a6515e6d0>,\n",
       " 'защита': <gensim.models.keyedvectors.Vocab at 0x1a6515e710>,\n",
       " 'петрович': <gensim.models.keyedvectors.Vocab at 0x1a6515e750>,\n",
       " 'фамилия': <gensim.models.keyedvectors.Vocab at 0x1a6515e790>,\n",
       " 'больной': <gensim.models.keyedvectors.Vocab at 0x1a6517bb10>,\n",
       " 'делаться': <gensim.models.keyedvectors.Vocab at 0x1a6515e810>,\n",
       " 'представляться': <gensim.models.keyedvectors.Vocab at 0x1a6515e890>,\n",
       " 'бабушка': <gensim.models.keyedvectors.Vocab at 0x1a6515e8d0>,\n",
       " 'борис': <gensim.models.keyedvectors.Vocab at 0x1a6515e910>,\n",
       " 'весна': <gensim.models.keyedvectors.Vocab at 0x1a6515e950>,\n",
       " 'сотня': <gensim.models.keyedvectors.Vocab at 0x1a6515e990>,\n",
       " 'построить': <gensim.models.keyedvectors.Vocab at 0x1a6515e9d0>,\n",
       " 'постоянный': <gensim.models.keyedvectors.Vocab at 0x1a6515ea10>,\n",
       " 'германия': <gensim.models.keyedvectors.Vocab at 0x1a6515ea50>,\n",
       " 'открываться': <gensim.models.keyedvectors.Vocab at 0x1a6515ea90>,\n",
       " 'крикнуть': <gensim.models.keyedvectors.Vocab at 0x1a6515ead0>,\n",
       " 'падать': <gensim.models.keyedvectors.Vocab at 0x1a6515eb10>,\n",
       " 'сумма': <gensim.models.keyedvectors.Vocab at 0x1a6515eb50>,\n",
       " 'женский': <gensim.models.keyedvectors.Vocab at 0x1a6515eb90>,\n",
       " ...}"
      ]
     },
     "metadata": {},
     "execution_count": 166
    }
   ],
   "source": [
    "pre_train_model.wv.vocab"
   ]
  },
  {
   "cell_type": "code",
   "execution_count": null,
   "metadata": {},
   "outputs": [],
   "source": []
  }
 ]
}